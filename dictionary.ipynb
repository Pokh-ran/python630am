{
 "cells": [
  {
   "cell_type": "code",
   "execution_count": 9,
   "id": "57fce8da-cbaa-4e66-a435-2206ab286032",
   "metadata": {},
   "outputs": [
    {
     "name": "stdout",
     "output_type": "stream",
     "text": [
      "{'a': 'apple', 'b': 'ball', 'c': 'cat'}\n",
      "<class 'dict'>\n",
      "ball\n"
     ]
    }
   ],
   "source": [
    "#Dictionary\n",
    "#it is a mutable data type\n",
    "#it support indexing\n",
    "#multiple and duplicate data types\n",
    "#ordered data types\n",
    "#d=dict()\n",
    "#it is used by curly braces\n",
    "#d={<key>:<value><key>:<value>...}\n",
    "#Cannot use operators like concatenataion\n",
    "d={'a':'apple,'b':'ball','c':'cat'}\n",
    "print (d)\n",
    "print(type(d))\n",
    "print(d['b'])\n"
   ]
  },
  {
   "cell_type": "code",
   "execution_count": 11,
   "id": "0c74d481-410a-451d-a87b-d33cf1979631",
   "metadata": {},
   "outputs": [
    {
     "name": "stdout",
     "output_type": "stream",
     "text": [
      "{'a': 'apple', 'b': 'ball', 'c': 'cat'}\n"
     ]
    }
   ],
   "source": [
    "d={'a':'apple','b':'ball','c':'cat'}\n",
    "print (d)#here it print in same order of dictionary so it is ordered"
   ]
  },
  {
   "cell_type": "code",
   "execution_count": 13,
   "id": "36fe03e1-44c2-4335-8bb3-4b7855b4111a",
   "metadata": {},
   "outputs": [
    {
     "name": "stdout",
     "output_type": "stream",
     "text": [
      "{'a': 'ant', 'b': 'ball', 'c': 'cat'}\n"
     ]
    }
   ],
   "source": [
    "d={'a':'apple','b':'ball','c':'cat','a':'ant'}\n",
    "print (d) #it is mutable but the keys are immutable"
   ]
  },
  {
   "cell_type": "code",
   "execution_count": 19,
   "id": "4d9be98e-bba4-48d8-aca5-cc9132c5b8f5",
   "metadata": {},
   "outputs": [
    {
     "name": "stdout",
     "output_type": "stream",
     "text": [
      "a\n",
      "b\n",
      "c\n"
     ]
    }
   ],
   "source": [
    "d={'a':'apple','b':'ball','c':'cat','a':'ant'}\n",
    "for i in d:\n",
    "    print(i)"
   ]
  },
  {
   "cell_type": "code",
   "execution_count": 21,
   "id": "1d85a6ed-c3eb-4599-b32e-8cf2d514e6bb",
   "metadata": {},
   "outputs": [
    {
     "name": "stdout",
     "output_type": "stream",
     "text": [
      "ant\n",
      "ball\n",
      "cat\n"
     ]
    }
   ],
   "source": [
    "d={'a':'apple','b':'ball','c':'cat','a':'ant'}\n",
    "for i in d.values():\n",
    "    print(i)"
   ]
  },
  {
   "cell_type": "code",
   "execution_count": 23,
   "id": "b5cb7a59-a544-4f32-a7b1-2e31d8e74bec",
   "metadata": {},
   "outputs": [
    {
     "name": "stdout",
     "output_type": "stream",
     "text": [
      "('a', 'ant')\n",
      "('b', 'ball')\n",
      "('c', 'cat')\n"
     ]
    }
   ],
   "source": [
    "d={'a':'apple','b':'ball','c':'cat','a':'ant'}\n",
    "for i in d.items():\n",
    "    print(i)"
   ]
  },
  {
   "cell_type": "code",
   "execution_count": 25,
   "id": "412a7948-4ff5-4491-b074-ad2635aad80c",
   "metadata": {},
   "outputs": [
    {
     "data": {
      "text/plain": [
       "{'a': 'apple', 'b': 'ball'}"
      ]
     },
     "execution_count": 25,
     "metadata": {},
     "output_type": "execute_result"
    }
   ],
   "source": [
    "d=[['a','apple'],['b','ball']]\n",
    "dict(d) #it converts to the dictionary from the listh\n"
   ]
  },
  {
   "cell_type": "markdown",
   "id": "2b81f957-4e54-43c0-9db5-032c83b1cc64",
   "metadata": {},
   "source": []
  },
  {
   "cell_type": "code",
   "execution_count": 27,
   "id": "bfd0b06a-1d5b-46d1-840e-7d598ae3790a",
   "metadata": {},
   "outputs": [
    {
     "name": "stdout",
     "output_type": "stream",
     "text": [
      "{'a': 'Apple', 'b': 'Ball', 'c': 'car'}\n"
     ]
    }
   ],
   "source": [
    "#how to create the dictionary by the user\n",
    "d={}\n",
    "d['a']='Apple'\n",
    "d['b']='Ball'\n",
    "d['c']='car'\n",
    "print (d)"
   ]
  },
  {
   "cell_type": "code",
   "execution_count": 37,
   "id": "919f7877-6ea6-4679-9862-032b4f8a879c",
   "metadata": {},
   "outputs": [
    {
     "name": "stdin",
     "output_type": "stream",
     "text": [
      "Enter n= 2\n",
      "Enter name= ram\n",
      "Enter phone= 9861439642\n",
      "Enter name= hari\n",
      "Enter phone= 9800852449\n"
     ]
    },
    {
     "name": "stdout",
     "output_type": "stream",
     "text": [
      "{'ram': '9861439642', 'hari': '9800852449'}\n"
     ]
    }
   ],
   "source": [
    "d={}\n",
    "n=int(input(\"Enter n=\"))\n",
    "for i in range(n):\n",
    "    name=input(\"Enter name=\")\n",
    "    phone=input(\"Enter phone=\")\n",
    "    d[name]=phone\n",
    "print(d)\n",
    "    \n",
    "    "
   ]
  },
  {
   "cell_type": "code",
   "execution_count": 39,
   "id": "a1ed3eeb-fe03-4318-9a18-1c6ce0fa229d",
   "metadata": {},
   "outputs": [
    {
     "data": {
      "text/plain": [
       "{'ram': '9861439642', 'hari': '9800852449', 'shyam': 98003456}"
      ]
     },
     "execution_count": 39,
     "metadata": {},
     "output_type": "execute_result"
    }
   ],
   "source": [
    "d={'ram': '9861439642', 'hari': '9800852449'}\n",
    "d['shyam']=98003456\n",
    "d"
   ]
  },
  {
   "cell_type": "code",
   "execution_count": 41,
   "id": "5e83d1ce-fb25-46b6-acc5-7573d56902b9",
   "metadata": {},
   "outputs": [
    {
     "data": {
      "text/plain": [
       "{'hari': '9800852449'}"
      ]
     },
     "execution_count": 41,
     "metadata": {},
     "output_type": "execute_result"
    }
   ],
   "source": [
    "#delete pop clear\n",
    "d={'ram': '9861439642', 'hari': '9800852449'}\n",
    "del d['ram']\n",
    "d"
   ]
  },
  {
   "cell_type": "code",
   "execution_count": 47,
   "id": "ffa3946a-a4fb-4c9a-adbb-99c18dadc262",
   "metadata": {},
   "outputs": [
    {
     "data": {
      "text/plain": [
       "{'hari': '9800852449'}"
      ]
     },
     "execution_count": 47,
     "metadata": {},
     "output_type": "execute_result"
    }
   ],
   "source": [
    "d={'ram': '9861439642', 'hari': '9800852449'}\n",
    "a=d.pop('ram')\n",
    "a\n",
    "d"
   ]
  },
  {
   "cell_type": "code",
   "execution_count": 55,
   "id": "c1df6442-0172-43d6-9df2-aacc1ca688ac",
   "metadata": {},
   "outputs": [
    {
     "data": {
      "text/plain": [
       "{}"
      ]
     },
     "execution_count": 55,
     "metadata": {},
     "output_type": "execute_result"
    }
   ],
   "source": [
    "d={'ram': '9861439642', 'hari': '9800852449'}\n",
    "d.clear()\n",
    "d"
   ]
  },
  {
   "cell_type": "code",
   "execution_count": 63,
   "id": "58664ee3-ab83-49cc-805a-e1c03d577a92",
   "metadata": {},
   "outputs": [
    {
     "data": {
      "text/plain": [
       "{'Ram': [9861439642, 981830587],\n",
       " 'Shyam': [9844195650, 9864110964],\n",
       " 'Hari': [9800, 8900, 6789]}"
      ]
     },
     "execution_count": 63,
     "metadata": {},
     "output_type": "execute_result"
    }
   ],
   "source": [
    "#Storing multiple values in dictionary\n",
    "#list as a dictionary\n",
    "d={\n",
    "    'Ram':[9861439642,981830587],\n",
    "    'Shyam':[9844195650,9864110964],\n",
    "    'Hari':[9800,8900,6789]\n",
    "}\n",
    "d"
   ]
  },
  {
   "cell_type": "code",
   "execution_count": 121,
   "id": "67ed4324-bae1-4cd6-bb98-dfc38fb473b1",
   "metadata": {},
   "outputs": [
    {
     "name": "stdin",
     "output_type": "stream",
     "text": [
      "Enter name= Ram\n",
      "Enter 0 for ntc and 1 for ncell 1\n"
     ]
    },
    {
     "data": {
      "text/plain": [
       "981830587"
      ]
     },
     "execution_count": 121,
     "metadata": {},
     "output_type": "execute_result"
    }
   ],
   "source": [
    "d={\n",
    "    'Ram':[9861439642,981830587],\n",
    "    'Shyam':[9844195650,9864110964],\n",
    "    'Hari':[9800,8900,6789]\n",
    "}\n",
    "name=input(\"Enter name=\")\n",
    "phone=int(input(\"Enter 0 for ntc and 1 for ncell\"))\n",
    "d[name][phone]\n",
    " "
   ]
  },
  {
   "cell_type": "code",
   "execution_count": 75,
   "id": "48443d96-93c5-4507-a045-d91bd59d716e",
   "metadata": {},
   "outputs": [
    {
     "data": {
      "text/plain": [
       "{'name': ['Ram', 'shyam'], 'ncell': [9800, 8790], 'ntc': [9861, 9844]}"
      ]
     },
     "execution_count": 75,
     "metadata": {},
     "output_type": "execute_result"
    }
   ],
   "source": [
    "#for multiple data\n",
    "d={\n",
    "    'name':['Ram','shyam'],\n",
    "    'ncell':[9800,8790],\n",
    "    'ntc':[9861,9844]\n",
    "}\n",
    "d\n"
   ]
  },
  {
   "cell_type": "code",
   "execution_count": 81,
   "id": "10b9baa2-deb3-4be9-acac-eeaa720cdfbb",
   "metadata": {},
   "outputs": [
    {
     "data": {
      "text/plain": [
       "{'name': ['Ram', 'shyam'], 'ncell': [9800, 8790], 'ntc': [984278900, 9844]}"
      ]
     },
     "execution_count": 81,
     "metadata": {},
     "output_type": "execute_result"
    }
   ],
   "source": [
    "\n",
    "d={\n",
    "    'name':['Ram','shyam'],\n",
    "    'ncell':[9800,8790],\n",
    "    'ntc':[9861,9844]\n",
    "}\n",
    "d['ntc'][0]=984278900\n",
    "d"
   ]
  },
  {
   "cell_type": "code",
   "execution_count": 83,
   "id": "8a1cafbc-9480-4e3a-a9a8-9761f68e72c9",
   "metadata": {},
   "outputs": [
    {
     "data": {
      "text/plain": [
       "{'name': ['shyam'], 'ncell': [8790], 'ntc': [9844]}"
      ]
     },
     "execution_count": 83,
     "metadata": {},
     "output_type": "execute_result"
    }
   ],
   "source": [
    "d={\n",
    "    'name':['Ram','shyam'],\n",
    "    'ncell':[9800,8790],\n",
    "    'ntc':[9861,9844]\n",
    "}\n",
    "del d['name'][0]\n",
    "del d['ntc'][0]\n",
    "del d['ncell'][0]\n",
    "d"
   ]
  },
  {
   "cell_type": "code",
   "execution_count": 97,
   "id": "788cf9f7-6982-4841-9bad-fa7f4cb7b754",
   "metadata": {},
   "outputs": [
    {
     "data": {
      "text/plain": [
       "{1: {'name': 'ram', 'ntc': 9861439642, 'ncell': 9800852449},\n",
       " 2: {'name': 'shyam', 'ntc': 9844439642, 'ncell': 9828852449},\n",
       " 3: {'name': 'hari', 'ntc': 9841439642, 'ncell': 981852449}}"
      ]
     },
     "execution_count": 97,
     "metadata": {},
     "output_type": "execute_result"
    }
   ],
   "source": [
    "#Nested dictionary\n",
    "d={\n",
    "   1: {'name':'ram','ntc':9861439642,'ncell':9800852449},\n",
    "   2: {'name':'shyam','ntc':9844439642,'ncell':9828852449},\n",
    "   3: {'name':'hari','ntc':9841439642,'ncell':981852449},\n",
    "\n",
    "}\n",
    "\n",
    "d"
   ]
  },
  {
   "cell_type": "code",
   "execution_count": 101,
   "id": "94eeb76d-21b1-4ba3-a664-f445f9314b22",
   "metadata": {},
   "outputs": [
    {
     "data": {
      "text/plain": [
       "'ram'"
      ]
     },
     "execution_count": 101,
     "metadata": {},
     "output_type": "execute_result"
    }
   ],
   "source": [
    "#Nested dictionary\n",
    "d={\n",
    "   1: {'name':'ram','ntc':9861439642,'ncell':9800852449},\n",
    "   2: {'name':'shyam','ntc':9844439642,'ncell':9828852449},\n",
    "   3: {'name':'hari','ntc':9841439642,'ncell':981852449},\n",
    "\n",
    "}\n",
    "d[1]['name']\n"
   ]
  },
  {
   "cell_type": "code",
   "execution_count": 113,
   "id": "21b3a592-4de9-4fe9-acc4-f19273bd3bf9",
   "metadata": {},
   "outputs": [
    {
     "data": {
      "text/plain": [
       "{1: {'name': 'ram', 'ntc': 9861439642, 'ncell': 9800852449, 'smart': 890076},\n",
       " 2: {'name': 'shyam', 'ntc': 9844439642, 'ncell': 9828852449},\n",
       " 3: {'name': 'hari', 'ntc': 9841439642}}"
      ]
     },
     "execution_count": 113,
     "metadata": {},
     "output_type": "execute_result"
    }
   ],
   "source": [
    "#Nested dictionary\n",
    "d={\n",
    "   1: {'name':'ram','ntc':9861439642,'ncell':9800852449},\n",
    "   2: {'name':'shyam','ntc':9844439642,'ncell':9828852449},\n",
    "   3: {'name':'hari','ntc':9841439642,'ncell':981852449},\n",
    "\n",
    "}\n",
    "\n",
    "d[1]['smart']=890076\n",
    "del d[3]['ncell']\n"
   ]
  },
  {
   "cell_type": "code",
   "execution_count": 1,
   "id": "00b794b4-8852-4095-939e-2c776c25de93",
   "metadata": {},
   "outputs": [],
   "source": [
    "#WAP to create list inside dictionary CRUD \n",
    "#WAP to create dictionary inside list CRUD \n",
    "#WAP to create dictionary inside dictionary CRUD \n",
    "#take subject marks,create total percentage,grade then\n",
    "#billing system\n",
    "\n",
    " info=\"\"\n",
    "grand_total=0\n",
    "n=int(input(\"Enter the number of product n=\"))\n",
    "for i in range(n):\n",
    "    product=input(\"Enter the product name=\")\n",
    "    qty=float(input(\"Enter the qty=\"))\n",
    "    price=float(input(\"Enter the price=\")) \n",
    "    total=price*qty\n",
    "    row=product+\"\\n\"+ str(price)+\"\\n\"+ str(qty)+\"\\n\"+ str(total)+\"\\n\"\n",
    "    info=info+row\n",
    "    grand_total=grand_total+total\n",
    "    print(\"Bill=\\n\", info)\n",
    "    print(\"The price is:\",price)\n",
    "    print(\"qty=\",qty)2\n",
    "    print(\"total billing Amount=\\n\",grand_total)\n",
    "    "
   ]
  },
  {
   "cell_type": "code",
   "execution_count": 9,
   "id": "0621d2df-256a-4946-b2e0-eb675cbf83c8",
   "metadata": {},
   "outputs": [
    {
     "name": "stdin",
     "output_type": "stream",
     "text": [
      "Enter the number of product n= 2\n",
      "Enter the product name= app\n",
      "Enter the qty= 2\n",
      "Enter the price= 2\n"
     ]
    },
    {
     "name": "stdout",
     "output_type": "stream",
     "text": [
      "Bill=\n",
      " \n",
      "The price is: 2.0\n",
      "qty= 2.0\n",
      "total billing Amount=\n",
      " 4.0\n"
     ]
    },
    {
     "name": "stdin",
     "output_type": "stream",
     "text": [
      "Enter the product name= coke\n",
      "Enter the qty= 4\n",
      "Enter the price= 10\n"
     ]
    },
    {
     "name": "stdout",
     "output_type": "stream",
     "text": [
      "Bill=\n",
      " \n",
      "The price is: 10.0\n",
      "qty= 4.0\n",
      "total billing Amount=\n",
      " 44.0\n"
     ]
    }
   ],
   "source": [
    "#list inside dictionary\n",
    "d={}\n",
    "info=\"\"\n",
    "grand_total=0\n",
    "n=int(input(\"Enter the number of product n=\"))\n",
    "for i in range(n):\n",
    "    product=input(\"Enter the product name=\")\n",
    "    qty=float(input(\"Enter the qty=\"))\n",
    "    price=float(input(\"Enter the price=\")) \n",
    "    total=price*qty\n",
    "    d[product]=[qty,price,total]\n",
    "    grand_total=grand_total+total\n",
    "    print(\"Bill=\\n\", info)\n",
    "    print(\"The price is:\",price)\n",
    "    print(\"qty=\",qty)\n",
    "    print(\"total billing Amount=\\n\",grand_total)\n",
    "    \n",
    "    \n",
    "\n",
    "    \n"
   ]
  },
  {
   "cell_type": "code",
   "execution_count": 21,
   "id": "c64981b6-f91d-476b-b203-749d62d404c3",
   "metadata": {},
   "outputs": [
    {
     "name": "stdin",
     "output_type": "stream",
     "text": [
      "Enter the number of product n= 2\n",
      "Enter the product name= aa\n",
      "Enter the qty= 2\n",
      "Enter the price= 34\n"
     ]
    },
    {
     "name": "stdout",
     "output_type": "stream",
     "text": [
      "Bill=\n",
      " \n",
      "The price is: 34.0\n",
      "qty= 2.0\n",
      "total billing Amount=\n",
      " 68.0\n"
     ]
    },
    {
     "name": "stdin",
     "output_type": "stream",
     "text": [
      "Enter the product name= bb\n",
      "Enter the qty= 2\n",
      "Enter the price= 3\n"
     ]
    },
    {
     "name": "stdout",
     "output_type": "stream",
     "text": [
      "Bill=\n",
      " \n",
      "The price is: 3.0\n",
      "qty= 2.0\n",
      "total billing Amount=\n",
      " 74.0\n",
      "Bill=\n",
      " \n",
      "The price is: 3.0\n",
      "qty= 2.0\n",
      "total billing Amount=\n",
      " 74.0\n"
     ]
    }
   ],
   "source": [
    "#dictionary inside list\n",
    "p=[]\n",
    "info=\"\"\n",
    "grand_total=0\n",
    "n=int(input(\"Enter the number of product n=\"))\n",
    "for i in range(n):\n",
    "    name=input(\"Enter the product name=\")\n",
    "    qty=float(input(\"Enter the qty=\"))\n",
    "    price=float(input(\"Enter the price=\")) \n",
    "    total=price*qty\n",
    "    item = {\"name\": name, \"price\": price, \"qty\": qty}\n",
    "    p.append(item)\n",
    "    grand_total=grand_total+total\n",
    "    for item in p:\n",
    "        print(\"Bill=\\n\", info)\n",
    "        print(\"The price is:\",price)\n",
    "        print(\"qty=\",qty)\n",
    "        print(\"total billing Amount=\\n\",grand_total)\n",
    "\n"
   ]
  },
  {
   "cell_type": "code",
   "execution_count": null,
   "id": "c457aca7-5ea5-478d-9c95-4fbdff84dd6e",
   "metadata": {},
   "outputs": [],
   "source": [
    "#dictionary in dictionary\n"
   ]
  }
 ],
 "metadata": {
  "kernelspec": {
   "display_name": "Python [conda env:base] *",
   "language": "python",
   "name": "conda-base-py"
  },
  "language_info": {
   "codemirror_mode": {
    "name": "ipython",
    "version": 3
   },
   "file_extension": ".py",
   "mimetype": "text/x-python",
   "name": "python",
   "nbconvert_exporter": "python",
   "pygments_lexer": "ipython3",
   "version": "3.12.7"
  }
 },
 "nbformat": 4,
 "nbformat_minor": 5
}
