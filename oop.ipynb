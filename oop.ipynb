{
 "cells": [
  {
   "cell_type": "code",
   "execution_count": 2,
   "id": "8eac958f-0fac-4e3a-ae96-1f02ca4219ed",
   "metadata": {},
   "outputs": [],
   "source": [
    "\n",
    "#defining class\n",
    "#class<class name>:\n",
    "#    <method1>\n",
    " #   <method 2>\n",
    "    \n",
    "#obj=<class name>()\n"
   ]
  },
  {
   "cell_type": "code",
   "execution_count": 10,
   "id": "c6c12bae-4cc9-42a8-93a9-1114694cf8a5",
   "metadata": {},
   "outputs": [
    {
     "name": "stdout",
     "output_type": "stream",
     "text": [
      "Hello World\n"
     ]
    }
   ],
   "source": [
    "class Hello:\n",
    "    def hello(self):   #it represent the attributes 0f class can be used by class \n",
    "        print(\"Hello World\")\n",
    "obj= Hello()\n",
    "obj.hello()\n",
    "    "
   ]
  },
  {
   "cell_type": "code",
   "execution_count": 12,
   "id": "14717247-5fbe-4f1e-bad4-ac49dca9d619",
   "metadata": {},
   "outputs": [
    {
     "name": "stdout",
     "output_type": "stream",
     "text": [
      "Hello World\n"
     ]
    }
   ],
   "source": [
    "class Hello:\n",
    "    @staticmethod\n",
    "    def hello():   \n",
    "        print(\"Hello World\")\n",
    "obj= Hello()\n",
    "obj.hello()\n",
    "    "
   ]
  },
  {
   "cell_type": "code",
   "execution_count": 16,
   "id": "ff81fdb8-9272-4a0a-9c55-7aa69d6c9af8",
   "metadata": {},
   "outputs": [
    {
     "name": "stdin",
     "output_type": "stream",
     "text": [
      "Enter the l= 2\n",
      "Enter the =b 3\n"
     ]
    },
    {
     "name": "stdout",
     "output_type": "stream",
     "text": [
      "6\n"
     ]
    }
   ],
   "source": [
    "class Area:\n",
    "    def area(self,l,b):  \n",
    "        a=l*b\n",
    "        print(\"Area=\",a)\n",
    "obj= Area()\n",
    "l=int(input(\"Enter the l=\"))\n",
    "b=int(input(\"Enter the =b\"))\n",
    "\n",
    "obj.area(l,b)\n",
    "    "
   ]
  },
  {
   "cell_type": "code",
   "execution_count": 20,
   "id": "0f2a498a-7e61-488c-bdb6-414f8a504bdc",
   "metadata": {},
   "outputs": [
    {
     "name": "stdin",
     "output_type": "stream",
     "text": [
      "Enter the l= 2\n",
      "Enter the =b 3\n"
     ]
    },
    {
     "name": "stdout",
     "output_type": "stream",
     "text": [
      "Area= 6\n"
     ]
    }
   ],
   "source": [
    "class Area:\n",
    "    @staticmethod\n",
    "    def area(l,b):  \n",
    "        a=l*b\n",
    "        print(\"Area=\",a)\n",
    "obj= Area()\n",
    "l=int(input(\"Enter the l=\"))\n",
    "b=int(input(\"Enter the =b\"))\n",
    "\n",
    "obj.area(l,b)\n",
    "    "
   ]
  },
  {
   "cell_type": "code",
   "execution_count": 64,
   "id": "032c25a6-54ca-4445-8d47-9897a15b8945",
   "metadata": {},
   "outputs": [
    {
     "name": "stdin",
     "output_type": "stream",
     "text": [
      "Enter name =  ranjan\n",
      "Enter age =  24\n",
      "Enter add =  bhaktapur\n"
     ]
    },
    {
     "name": "stdout",
     "output_type": "stream",
     "text": [
      "Hello world! I am ranjan. I am 24 years old. I am from bhaktapur.\n"
     ]
    }
   ],
   "source": [
    "class Info:\n",
    "    def __init__(self, name, age, add):\n",
    "        self.name = name\n",
    "        self.age = age\n",
    "        self.add = add\n",
    "\n",
    "    def info(self):\n",
    "        print(f\"Hello world! I am {self.name}. I am {self.age} years old. I am from {self.add}.\")\n",
    "\n",
    "# Input from user\n",
    "name = input(\"Enter name = \")\n",
    "age = int(input(\"Enter age = \"))\n",
    "add = input(\"Enter add = \")\n",
    "\n",
    "# Create object and call method\n",
    "obj = Info(name, age, add)\n",
    "obj.info()\n"
   ]
  },
  {
   "cell_type": "code",
   "execution_count": 69,
   "id": "c6ec19ff-a3e0-4802-a926-17874bfb3a12",
   "metadata": {},
   "outputs": [
    {
     "name": "stdin",
     "output_type": "stream",
     "text": [
      "Enter name =  ranjan\n",
      "Enter age =  24\n",
      "Enter add =  bhaktapur\n"
     ]
    },
    {
     "name": "stdout",
     "output_type": "stream",
     "text": [
      "Hello world! I am ranjan. I am 24 years old. I am from bhaktapur.\n",
      "Hello world! I am Ram. I am 32 years old. I am from ktm.\n"
     ]
    }
   ],
   "source": [
    "class Info:\n",
    "    def __init__(self, name, age, add):\n",
    "        self.name = name\n",
    "        self.age = age\n",
    "        self.add = add\n",
    "\n",
    "    def info(self):\n",
    "        print(f\"Hello world! I am {self.name}. I am {self.age} years old. I am from {self.add}.\")\n",
    "\n",
    "# Input from user\n",
    "name = input(\"Enter name = \")\n",
    "age = int(input(\"Enter age = \"))\n",
    "add = input(\"Enter add = \")\n",
    "\n",
    "# Create object and call method\n",
    "obj = Info(name, age, add)\n",
    "obj1=Info(\"Ram\",\"32\",\"ktm\")\n",
    "obj.info()\n",
    "obj1.info()\n"
   ]
  },
  {
   "cell_type": "markdown",
   "id": "1dd4eaab-305a-4490-a372-751a4e3344bc",
   "metadata": {},
   "source": []
  },
  {
   "cell_type": "code",
   "execution_count": 13,
   "id": "a785cc4e-12ef-408b-a6de-5fd51b06519c",
   "metadata": {},
   "outputs": [
    {
     "name": "stdout",
     "output_type": "stream",
     "text": [
      "Area: 50\n",
      "Volume: 48\n"
     ]
    }
   ],
   "source": [
    "class Area:\n",
    "    def __init__(self, l, b):\n",
    "        self.l = l\n",
    "        self.b = b\n",
    "\n",
    "    def info(self):\n",
    "        a = self.l * self.b\n",
    "        print(\"Area:\", a)\n",
    "\n",
    "class Volume:\n",
    "    def __init__(self, l, b, h):\n",
    "        self.l = l\n",
    "        self.b = b\n",
    "        self.h = h\n",
    "\n",
    "    def info(self):\n",
    "        v = self.l * self.b * self.h\n",
    "        print(\"Volume:\", v)\n",
    "\n",
    "# Object creation\n",
    "obj = Area(10, 5)\n",
    "obj1 = Volume(2, 4, 6)\n",
    "\n",
    "# Method calling\n",
    "obj.info()\n",
    "obj1.info()\n"
   ]
  },
  {
   "cell_type": "code",
   "execution_count": 2,
   "id": "a362808a-85ca-4c32-94ee-313aa502fe01",
   "metadata": {},
   "outputs": [],
   "source": [
    "#for understanding \n",
    "#class object method\n"
   ]
  },
  {
   "cell_type": "code",
   "execution_count": 4,
   "id": "360dc8e6-7f8d-435a-a7a1-0f69ba41658a",
   "metadata": {},
   "outputs": [],
   "source": [
    "#Inheritance\n",
    "class A:\n",
    "    pass\n",
    "class B:\n",
    "    pass\n",
    "obj=B()    "
   ]
  },
  {
   "cell_type": "code",
   "execution_count": 3,
   "id": "872a0748-dff7-448a-b3d8-16e3013445ad",
   "metadata": {},
   "outputs": [
    {
     "name": "stdout",
     "output_type": "stream",
     "text": [
      "Hello world i amRam.i am25,i am from Kathmsndu.\n",
      "Hello world i amRam.i am25,i am from Kathmsndu.\n"
     ]
    }
   ],
   "source": [
    "class Data:\n",
    "    def __init__(self):\n",
    "        self.name=\"Ram\"\n",
    "        self.age=\"25\"\n",
    "        self.add=\"Kathmsndu\"\n",
    "    def data(self):   \n",
    "        print(f\"Hello world i am{self.name}.i am{self.age},i am from {self.add}.\")\n",
    "class info(Data):        \n",
    "    def info(self):\n",
    "       print(f\"Hello world i am{self.name}.i am{self.age},i am from {self.add}.\")\n",
    "obj= info()\n",
    "obj.info()\n",
    "obj.data()"
   ]
  },
  {
   "cell_type": "code",
   "execution_count": 17,
   "id": "a8c0cb47-3a75-4cca-ab55-e78a8e9ad92c",
   "metadata": {},
   "outputs": [
    {
     "name": "stdin",
     "output_type": "stream",
     "text": [
      "Enter name= e\n",
      "Enter age= 3\n",
      "Enter add= r\n"
     ]
    },
    {
     "name": "stdout",
     "output_type": "stream",
     "text": [
      "Hello world i ame.i am3,i am from r.\n",
      "e 3 r\n"
     ]
    }
   ],
   "source": [
    "class Data:\n",
    "    def __init__(self,name,age,add):\n",
    "        self.name=name\n",
    "        self.age=age\n",
    "        self.add=add\n",
    "    def data(self):  \n",
    "        print(self.name,self.age,self.add)\n",
    "class info(Data):        \n",
    "    def info(self):\n",
    "       print(f\"Hello world i am{self.name}.i am{self.age},i am from {self.add}.\")\n",
    "name=input(\"Enter name=\")\n",
    "age=int(input(\"Enter age=\"))\n",
    "add=input(\"Enter add=\")\n",
    "        \n",
    "obj= info(name,age,add)\n",
    "obj.info()\n",
    "obj.data()"
   ]
  },
  {
   "cell_type": "code",
   "execution_count": 37,
   "id": "3268c757-623a-4326-a261-7a2768ac209e",
   "metadata": {},
   "outputs": [
    {
     "name": "stdin",
     "output_type": "stream",
     "text": [
      "Enter name= ranjan\n",
      "Enter age= 23\n",
      "Enter add= bkt\n"
     ]
    },
    {
     "name": "stdout",
     "output_type": "stream",
     "text": [
      "Hello world i amvranjan.i am 23,i am from bkt.\n",
      "ranjan <__main__.info object at 0x0000017DFBA3F050> 23 bkt\n"
     ]
    }
   ],
   "source": [
    "class Data:\n",
    "    def __init__(self,add):\n",
    "        self.add=add\n",
    "    def data(self):  \n",
    "        print(self.name,self,age,self.add)\n",
    "class info(Data):        \n",
    "    def __init__(self,name,age,add):\n",
    "        \n",
    "        self.name=name\n",
    "        self.age=age\n",
    "        Data.__init__(self,add)\n",
    "    def info(self):\n",
    "            print(f\"Hello world i am {self.name}.i am {self.age},i am from {self.add}.\")\n",
    "name=input(\"Enter name=\")\n",
    "age=int(input(\"Enter age=\"))\n",
    "add=input(\"Enter add=\")\n",
    "        \n",
    "obj= info(name,age,add)\n",
    "obj.info()\n",
    "obj.data()"
   ]
  },
  {
   "cell_type": "code",
   "execution_count": 39,
   "id": "29913808-6266-461c-9713-a60ed41c8afa",
   "metadata": {},
   "outputs": [
    {
     "ename": "IndentationError",
     "evalue": "expected an indented block after class definition on line 2 (1299888392.py, line 3)",
     "output_type": "error",
     "traceback": [
      "\u001b[1;36m  Cell \u001b[1;32mIn[39], line 3\u001b[1;36m\u001b[0m\n\u001b[1;33m    pass\u001b[0m\n\u001b[1;37m    ^\u001b[0m\n\u001b[1;31mIndentationError\u001b[0m\u001b[1;31m:\u001b[0m expected an indented block after class definition on line 2\n"
     ]
    }
   ],
   "source": [
    "    #Multilevel inheritance\n",
    "class A:\n",
    "    pass\n",
    "class B(A):\n",
    "    pass\n",
    "class C(B):\n",
    "    pass\n",
    "obj=c()\n"
   ]
  },
  {
   "cell_type": "code",
   "execution_count": 43,
   "id": "538bb1f3-52ad-4280-b0ee-aa8c6eccc8ed",
   "metadata": {},
   "outputs": [
    {
     "ename": "IndentationError",
     "evalue": "expected an indented block after class definition on line 2 (4109738983.py, line 3)",
     "output_type": "error",
     "traceback": [
      "\u001b[1;36m  Cell \u001b[1;32mIn[43], line 3\u001b[1;36m\u001b[0m\n\u001b[1;33m    pass\u001b[0m\n\u001b[1;37m    ^\u001b[0m\n\u001b[1;31mIndentationError\u001b[0m\u001b[1;31m:\u001b[0m expected an indented block after class definition on line 2\n"
     ]
    }
   ],
   "source": [
    "    #Multiple inheritance\n",
    "class A:\n",
    "    pass\n",
    "class B:\n",
    "    pass\n",
    "class C(A,B):\n",
    "    pass\n",
    "obj=C()"
   ]
  },
  {
   "cell_type": "code",
   "execution_count": 21,
   "id": "af4c32f0-5871-411b-82a2-c61ef664a52c",
   "metadata": {},
   "outputs": [
    {
     "name": "stdin",
     "output_type": "stream",
     "text": [
      "Enter name= r\n",
      "Enter age= 2\n",
      "Enter add = 4\n",
      "Enter phone= 4\n"
     ]
    },
    {
     "name": "stdout",
     "output_type": "stream",
     "text": [
      "Hello world i am r.i am 2,i am from 4. my phone number is4.\n",
      "r <__main__.info object at 0x0000022F938E1BB0> 2 4\n"
     ]
    }
   ],
   "source": [
    "class contact:\n",
    "    def __init__(self,phone):\n",
    "          self.phone= phone\n",
    "    def contact(self):\n",
    "        print(self.phone)\n",
    "class Data:\n",
    "    def __init__(self,add,phone):\n",
    "        self.add=add\n",
    "        contact.__init__(self,phone)\n",
    "    def data(self):  \n",
    "        print(self.name,self,age,self.add)\n",
    "class info(Data):        \n",
    "    def __init__(self,name,age,add,phone):\n",
    "        \n",
    "        self.name=name\n",
    "        self.age=age\n",
    "        Data.__init__(self,add,phone)\n",
    "    def info(self):\n",
    "            print(f\"Hello world i am {self.name}.i am {self.age},i am from {self.add}. my phone number is{self.phone}.\")\n",
    "name=input(\"Enter name=\")\n",
    "age=int(input(\"Enter age=\"))\n",
    "add=input(\"Enter add =\")\n",
    "phone=input(\"Enter phone=\")\n",
    "obj= info(name,age,add,phone)\n",
    "obj.info()\n",
    "obj.data()\n"
   ]
  },
  {
   "cell_type": "code",
   "execution_count": 14,
   "id": "cde86e11-24a0-4182-9042-55447c68f6a2",
   "metadata": {},
   "outputs": [
    {
     "name": "stdout",
     "output_type": "stream",
     "text": [
      "Ram\n",
      "23\n",
      "Ktm\n"
     ]
    }
   ],
   "source": [
    "#attributes\n",
    "#public\n",
    "#privates\n",
    "#protected\n",
    "#public\n",
    "class Info:\n",
    "    def __init__(s):\n",
    "        s.name=\"Ram\"\n",
    "        s.age=23\n",
    "        s.add=\"Ktm\"\n",
    "    def info():\n",
    "            print(s.name,s.age,s.add)\n",
    "obj=Info()\n",
    "print(obj.name)\n",
    "print(obj.age)\n",
    "print(obj.add)"
   ]
  },
  {
   "cell_type": "code",
   "execution_count": 45,
   "id": "3721e234-65f5-4b9f-884e-170a4472d846",
   "metadata": {},
   "outputs": [
    {
     "name": "stdout",
     "output_type": "stream",
     "text": [
      "Hello world, I am Ram. I am 23. I am from Ktm.\n"
     ]
    }
   ],
   "source": [
    "# protected\n",
    "class Data:\n",
    "    def __init__(self):\n",
    "        self._name = \"Ram\"\n",
    "        self._age = 23\n",
    "        self._add = \"Ktm\"\n",
    "\n",
    "    def data(self):\n",
    "        print(self._name, self._age, self._add)\n",
    "\n",
    "class Info(Data):\n",
    "    def info(self):\n",
    "        print(f\"Hello world, I am {self._name}. I am {self._age}. I am from {self._add}.\")\n",
    "\n",
    "obj = Info()\n",
    "obj.info()\n"
   ]
  },
  {
   "cell_type": "code",
   "execution_count": 43,
   "id": "580ac1dc-a88d-4484-aff8-e3c4b57049d6",
   "metadata": {},
   "outputs": [
    {
     "name": "stdout",
     "output_type": "stream",
     "text": [
      "Hello world I am ram\n"
     ]
    }
   ],
   "source": [
    "#private\n",
    "class Data:\n",
    "    def __init__(self):\n",
    "        self._name = \"ram\"\n",
    "        self.__age = 24\n",
    "        self.__add = \"ktm\"\n",
    "        self.__phone = 9861439642\n",
    "\n",
    "    def data(self):\n",
    "        print(self._name, self.__age, self.__add)\n",
    "\n",
    "class Info(Data):\n",
    "    def info(self):\n",
    "        print(f\"Hello world I am {self._name}\")\n",
    "\n",
    "obj = Info()\n",
    "obj.info()\n"
   ]
  },
  {
   "cell_type": "code",
   "execution_count": 49,
   "id": "1185a7a0-9485-48da-aaac-e37ddd73afc4",
   "metadata": {},
   "outputs": [
    {
     "name": "stdout",
     "output_type": "stream",
     "text": [
      "Hello world, I am Ram. I am 23. I am from Ktm.\n",
      "<__main__.Info object at 0x0000017215585AC0>\n",
      "<class '__main__.Info'>\n"
     ]
    }
   ],
   "source": [
    "#__Str method__\n",
    "#private\n",
    "class Data:\n",
    "    def __init__(self):\n",
    "        self._name = \"ram\"\n",
    "        self.__age = 24\n",
    "        self.__add = \"ktm\"\n",
    "    def __str__(self):\n",
    "        return self.name\n",
    "    def info(self):\n",
    "        print(f\"Hello word i am {self.name}.i am {self.age}.i am from{self.add}\")\n",
    "obj= Info()\n",
    "obj.info()\n",
    "print (obj)\n",
    "print(type(obj))         \n"
   ]
  },
  {
   "cell_type": "code",
   "execution_count": null,
   "id": "5e754960-85a4-450a-9295-162c903fc569",
   "metadata": {},
   "outputs": [],
   "source": [
    "#operator overloading\n"
   ]
  }
 ],
 "metadata": {
  "kernelspec": {
   "display_name": "Python [conda env:base] *",
   "language": "python",
   "name": "conda-base-py"
  },
  "language_info": {
   "codemirror_mode": {
    "name": "ipython",
    "version": 3
   },
   "file_extension": ".py",
   "mimetype": "text/x-python",
   "name": "python",
   "nbconvert_exporter": "python",
   "pygments_lexer": "ipython3",
   "version": "3.12.7"
  }
 },
 "nbformat": 4,
 "nbformat_minor": 5
}
