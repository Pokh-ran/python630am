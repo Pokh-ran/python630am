{
 "cells": [
  {
   "cell_type": "markdown",
   "id": "ee28ea2c-2969-4b1a-960d-ef690a65020b",
   "metadata": {},
   "source": []
  },
  {
   "cell_type": "code",
   "execution_count": 1,
   "id": "357106a3-ac75-4ecd-80b0-bfe4be263140",
   "metadata": {},
   "outputs": [],
   "source": [
    "#loop\n",
    "#for loop\n",
    "#while loop"
   ]
  },
  {
   "cell_type": "code",
   "execution_count": 7,
   "id": "aac26381-8ca3-4643-867f-0f75e1291a8f",
   "metadata": {},
   "outputs": [],
   "source": [
    "#range(5)      0,1,2,3,4\n",
    "#range(1,5)    1,2,3,4\n",
    "#range(1,10,2)  1,3,5,7,9"
   ]
  },
  {
   "cell_type": "code",
   "execution_count": 15,
   "id": "b37a7969-8a11-4117-8b87-8dc649fb4e7a",
   "metadata": {},
   "outputs": [
    {
     "name": "stdout",
     "output_type": "stream",
     "text": [
      "0 Hello world\n",
      "1 Hello world\n",
      "2 Hello world\n",
      "3 Hello world\n",
      "4 Hello world\n"
     ]
    }
   ],
   "source": [
    "for i in range(5):\n",
    "    print(i,\"Hello world\")\n",
    "    #in updates the value of i\n",
    "    #: sign is necessary in loop"
   ]
  },
  {
   "cell_type": "code",
   "execution_count": 17,
   "id": "8ac7a6b0-ae61-4fd8-976d-8201b5cad0cd",
   "metadata": {},
   "outputs": [
    {
     "name": "stdout",
     "output_type": "stream",
     "text": [
      "1 Hello world\n",
      "2 Hello world\n",
      "3 Hello world\n",
      "4 Hello world\n"
     ]
    }
   ],
   "source": [
    "for i in range(1,5):\n",
    "    print(i,\"Hello world\")\n",
    "    "
   ]
  },
  {
   "cell_type": "code",
   "execution_count": 23,
   "id": "7540e695-72fe-4ca4-aeed-1f323437e213",
   "metadata": {},
   "outputs": [
    {
     "name": "stdout",
     "output_type": "stream",
     "text": [
      "1 Hello world\n",
      "3 Hello world\n",
      "5 Hello world\n"
     ]
    }
   ],
   "source": [
    "for i in range(1,6,2):\n",
    "     print(i,\"Hello world\")\n",
    "#2 INDICATES IN ABOVE FOR LOOP INDICATES THE INCREMENT"
   ]
  },
  {
   "cell_type": "code",
   "execution_count": 27,
   "id": "e69c8e31-8e73-4f04-9775-92b0242b8b29",
   "metadata": {},
   "outputs": [
    {
     "name": "stdout",
     "output_type": "stream",
     "text": [
      "5 hello world\n",
      "4 hello world\n",
      "3 hello world\n",
      "2 hello world\n",
      "1 hello world\n"
     ]
    }
   ],
   "source": [
    "for i in range(5,0,-1):\n",
    "     print(i,\"hello world\")\n",
    "    #-1 indiciates the data in reverse way\n"
   ]
  },
  {
   "cell_type": "raw",
   "id": "f6c20904-2190-485e-85c9-71b13d0968cc",
   "metadata": {},
   "source": [
    "#wap to create the multiplication table\n",
    "a=int(input(\"Enter the value of a=\"))\n",
    "for i in range(1,11):\n",
    "      print(a,\"*\",i,\"=\",a*i)"
   ]
  },
  {
   "cell_type": "code",
   "execution_count": 52,
   "id": "fc3200b8-20f7-4195-a3fc-3d4c7561a879",
   "metadata": {},
   "outputs": [
    {
     "name": "stdin",
     "output_type": "stream",
     "text": [
      "Enter the no of input 2\n",
      "Enter the amount 1000\n"
     ]
    },
    {
     "name": "stdout",
     "output_type": "stream",
     "text": [
      "1000\n"
     ]
    },
    {
     "name": "stdin",
     "output_type": "stream",
     "text": [
      "Enter the amount 1222\n"
     ]
    },
    {
     "name": "stdout",
     "output_type": "stream",
     "text": [
      "2222\n"
     ]
    }
   ],
   "source": [
    "#wap to calculate sum\n",
    "s=0\n",
    "n=int(input(\"Enter the no of input\"))\n",
    "for i in range(n):\n",
    "      m=int(input(\"Enter the amount\"))\n",
    "      s=s+m\n",
    "        #sum=old sum amount +new amount deposited\n",
    "      print(s)\n"
   ]
  },
  {
   "cell_type": "code",
   "execution_count": 61,
   "id": "fc904d42-7b8b-4847-b970-c73a3cbd3f77",
   "metadata": {},
   "outputs": [
    {
     "name": "stdin",
     "output_type": "stream",
     "text": [
      "Enter the no of input 2\n",
      "Enter the amount 1000\n"
     ]
    },
    {
     "name": "stdout",
     "output_type": "stream",
     "text": [
      "1100.0\n"
     ]
    },
    {
     "name": "stdin",
     "output_type": "stream",
     "text": [
      "Enter the amount 1000\n"
     ]
    },
    {
     "name": "stdout",
     "output_type": "stream",
     "text": [
      "2310.0\n"
     ]
    }
   ],
   "source": [
    "#wap sum with some interest\n",
    "#this is compound interest\n",
    "s=0\n",
    "n=int(input(\"Enter the no of input\"))\n",
    "for i in range(n):\n",
    "      m=int(input(\"Enter the amount\"))\n",
    "      s=s+m\n",
    "      s=s*1.1\n",
    "        #sum=old sum amount +new amount deposited\n",
    "      print(s)\n"
   ]
  },
  {
   "cell_type": "code",
   "execution_count": 3,
   "id": "a31d83d9-2f3e-4388-92e9-008b1b6dda25",
   "metadata": {},
   "outputs": [
    {
     "name": "stdin",
     "output_type": "stream",
     "text": [
      "Enter the number 3\n"
     ]
    },
    {
     "name": "stdout",
     "output_type": "stream",
     "text": [
      "1\n",
      "2\n",
      "6\n"
     ]
    }
   ],
   "source": [
    "#WAP to calculate factorial\n",
    "#5!-1*2*3*4*5\n",
    "fact=1\n",
    "n=int(input(\"Enter the number\"))\n",
    "for i in range(1,n+1):\n",
    "        fact=fact*i\n",
    "        print (fact)\n"
   ]
  },
  {
   "cell_type": "code",
   "execution_count": 87,
   "id": "844100c2-fa22-4aac-8c71-1355fae5e566",
   "metadata": {},
   "outputs": [
    {
     "name": "stdin",
     "output_type": "stream",
     "text": [
      "Enter the number 5\n"
     ]
    },
    {
     "name": "stdout",
     "output_type": "stream",
     "text": [
      "1\n",
      "3\n",
      "6\n",
      "10\n",
      "15\n"
     ]
    }
   ],
   "source": [
    "#wap to print sum of all numbers\n",
    "sum=0;\n",
    "n=int(input(\"Enter the number\"))\n",
    "for i in range(1,n+1):\n",
    "        sum=sum+i\n",
    "        print (sum)\n"
   ]
  },
  {
   "cell_type": "code",
   "execution_count": 13,
   "id": "9f5df680-62c1-45ef-ac59-122f45348a14",
   "metadata": {},
   "outputs": [
    {
     "name": "stdout",
     "output_type": "stream",
     "text": [
      "HELLO"
     ]
    }
   ],
   "source": [
    "#loop in string\n",
    "a=\"HELLO\"\n",
    "for i in a:+\n",
    "    print(i,end=\"\")#end=\" \" denotes that print in horizontal aand provide space between the output"
   ]
  },
  {
   "cell_type": "code",
   "execution_count": 31,
   "id": "b43c05d5-d9ad-42ab-87ed-d051714af077",
   "metadata": {},
   "outputs": [
    {
     "name": "stdout",
     "output_type": "stream",
     "text": [
      "5\n",
      "HELLO"
     ]
    }
   ],
   "source": [
    "a=\"HELLO\"\n",
    "print(len(a))\n",
    "for i in a:\n",
    "    print(i,end=\"\")"
   ]
  },
  {
   "cell_type": "code",
   "execution_count": 25,
   "id": "7e12b75e-19e3-4f53-bb42-b423cd4cdb51",
   "metadata": {},
   "outputs": [
    {
     "name": "stdout",
     "output_type": "stream",
     "text": [
      "H e l l o   w o r l d I   a m   p y t h o n "
     ]
    }
   ],
   "source": [
    "a=\"Hello world!.I am python\"\n",
    "for i in a:\n",
    "    if i!=\"\"and i!=\".\":\n",
    "      print(i,end=\" \")"
   ]
  },
  {
   "cell_type": "code",
   "execution_count": 9,
   "id": "d3221cc2-f157-4312-af2b-7bb7dd8b0833",
   "metadata": {},
   "outputs": [
    {
     "name": "stdin",
     "output_type": "stream",
     "text": [
      "Enter the number of product n= 2\n",
      "Enter the product name= qp\n",
      "Enter the qty= 2\n",
      "Enter the price= 12\n"
     ]
    },
    {
     "name": "stdout",
     "output_type": "stream",
     "text": [
      "Bill=\n",
      " qp\n",
      "12.0\n",
      "2.0\n",
      "24.0\n",
      "\n",
      "The price is: 12.0\n",
      "total billing Amount=\n",
      " 24.0\n"
     ]
    },
    {
     "name": "stdin",
     "output_type": "stream",
     "text": [
      "Enter the product name= w\n",
      "Enter the qty= 2\n",
      "Enter the price= 12\n"
     ]
    },
    {
     "name": "stdout",
     "output_type": "stream",
     "text": [
      "Bill=\n",
      " qp\n",
      "12.0\n",
      "2.0\n",
      "24.0\n",
      "w\n",
      "12.0\n",
      "2.0\n",
      "24.0\n",
      "\n",
      "The price is: 12.0\n",
      "total billing Amount=\n",
      " 48.0\n"
     ]
    }
   ],
   "source": [
    " info=\"\"\n",
    "grand_total=0\n",
    "n=int(input(\"Enter the number of product n=\"))\n",
    "for i in range(n):\n",
    "    product=input(\"Enter the product name=\")\n",
    "    qty=float(input(\"Enter the qty=\"))\n",
    "    price=float(input(\"Enter the price=\")) \n",
    "    total=price*qty\n",
    "    row=product+\"\\n\"+ str(price)+\"\\n\"+ str(qty)+\"\\n\"+ str(total)+\"\\n\"\n",
    "    info=info+row\n",
    "    grand_total=grand_total+total\n",
    "    print(\"Bill=\\n\", info)\n",
    "    print(\"The price is:\",price)\n",
    "    print(\"qty=\",qty)2\n",
    "    print(\"total billing Amount=\\n\",grand_total)\n",
    "    "
   ]
  },
  {
   "cell_type": "code",
   "execution_count": 44,
   "id": "795e8b4f-4971-47da-a2c1-38efffb14196",
   "metadata": {},
   "outputs": [
    {
     "name": "stdout",
     "output_type": "stream",
     "text": [
      "0 1 2 3 4 "
     ]
    }
   ],
   "source": [
    "#control statement while loops chalirako loop lai interrupt garxa ra code execute garxa\n",
    "#break tyo condition aayesi loop chalna xadxa\n",
    "#continue kunai euta condition skip garera loop chalxa\n",
    "for i in range(10):\n",
    "    if i==5:\n",
    "      break\n",
    "    print(i,end=\" \")"
   ]
  },
  {
   "cell_type": "code",
   "execution_count": 42,
   "id": "24987c89-1dc3-42ba-9394-11245d9dc972",
   "metadata": {},
   "outputs": [
    {
     "name": "stdout",
     "output_type": "stream",
     "text": [
      "0 1 2 3 4 6 7 8 9 "
     ]
    }
   ],
   "source": [
    "for i in range(10):\n",
    "    if i==5:\n",
    "      continue\n",
    "    print(i,end=\" \")"
   ]
  },
  {
   "cell_type": "code",
   "execution_count": 38,
   "id": "2edaeaf9-cc48-455d-808e-4efaf7c6e1e5",
   "metadata": {},
   "outputs": [
    {
     "name": "stdout",
     "output_type": "stream",
     "text": [
      "Hello world"
     ]
    }
   ],
   "source": [
    "a=\"Hello world.I am from ktm.\"\n",
    "for i in a:\n",
    "    if i==\".\":\n",
    "     break\n",
    "    print(i,end=\"\")"
   ]
  },
  {
   "cell_type": "code",
   "execution_count": 36,
   "id": "5fc26fd4-36ee-436c-8019-cdf7c376b020",
   "metadata": {},
   "outputs": [
    {
     "name": "stdout",
     "output_type": "stream",
     "text": [
      "Hello world I am from ktm"
     ]
    }
   ],
   "source": [
    "a=\"Hello world. I am from ktm.\"\n",
    "for i in a:\n",
    "    if i==\".\":\n",
    "     continue\n",
    "    print(i,end=\"\")"
   ]
  },
  {
   "cell_type": "code",
   "execution_count": 54,
   "id": "fc0f37dd-f4f3-44e0-b005-12d2edab3f48",
   "metadata": {},
   "outputs": [
    {
     "name": "stdin",
     "output_type": "stream",
     "text": [
      "Enter the number: 11\n"
     ]
    },
    {
     "name": "stdout",
     "output_type": "stream",
     "text": [
      "Prime number\n"
     ]
    }
   ],
   "source": [
    "#wap to find if the no is prime or composite\n",
    "#for else \n",
    "n=int(input(\"Enter the number:\"))\n",
    "for i in range (2,n):\n",
    "  if n%i==0:\n",
    "      print(\"Composite number\")\n",
    "      break\n",
    "else:      \n",
    "       print(\"Prime number\")\n"
   ]
  },
  {
   "cell_type": "code",
   "execution_count": 80,
   "id": "af475795-4667-4064-afd1-2ae3c3db386a",
   "metadata": {},
   "outputs": [
    {
     "name": "stdout",
     "output_type": "stream",
     "text": [
      "0 1 2 3 4 "
     ]
    }
   ],
   "source": [
    "#while loop\n",
    "#syntax\n",
    "#while<condition>:\n",
    "  #  <operations>\n",
    "i=0\n",
    "while i<5:\n",
    "    print(i,end=\" \")\n",
    "    i=i+1\n",
    "    \n",
    "    "
   ]
  },
  {
   "cell_type": "code",
   "execution_count": 1,
   "id": "c2a1a4e3-e7c0-44ef-b639-678554fb5c54",
   "metadata": {},
   "outputs": [
    {
     "name": "stdout",
     "output_type": "stream",
     "text": [
      "0 1 2 3 4 5 6 7 8 9 10 11 12 13 14 15 16 17 18 19 20 21 22 23 24 25 26 27 28 29 30 31 32 33 34 35 36 37 38 39 41 42 43 44 45 46 47 48 49 50 51 52 53 54 55 56 57 58 59 60 61 62 63 64 65 66 67 68 69 70 71 72 73 74 75 76 77 78 79 80 81 82 83 84 85 86 87 88 89 90 91 92 93 94 95 96 97 98 99 "
     ]
    }
   ],
   "source": [
    "i=0\n",
    "while i<100:\n",
    "    if i==40:\n",
    "        i=i+1\n",
    "        continue\n",
    "    print(i,end=\" \")\n",
    "    i=i+1"
   ]
  },
  {
   "cell_type": "code",
   "execution_count": 3,
   "id": "cba7535e-5fbe-4f59-8818-ee731de1c665",
   "metadata": {},
   "outputs": [
    {
     "name": "stdout",
     "output_type": "stream",
     "text": [
      "5 4 3 2 1 "
     ]
    }
   ],
   "source": [
    "i=5\n",
    "while i>0:\n",
    "    print(i,end=\" \")\n",
    "    i=i-1"
   ]
  },
  {
   "cell_type": "code",
   "execution_count": 15,
   "id": "498c9378-512d-460a-9e22-7835790d2105",
   "metadata": {},
   "outputs": [
    {
     "name": "stdin",
     "output_type": "stream",
     "text": [
      "Enter the x= 2\n"
     ]
    },
    {
     "name": "stdout",
     "output_type": "stream",
     "text": [
      "2 * 1 = 2\n",
      "2 * 2 = 4\n",
      "2 * 3 = 6\n",
      "2 * 4 = 8\n",
      "2 * 5 = 10\n",
      "2 * 6 = 12\n",
      "2 * 7 = 14\n",
      "2 * 8 = 16\n",
      "2 * 9 = 18\n",
      "2 * 10 = 20\n"
     ]
    }
   ],
   "source": [
    "#WAP\n",
    "i=1\n",
    "x=int(input(\"Enter the x=\"))\n",
    "while(i<=10):\n",
    "          print(x,\"*\",i,\"=\",x*i)\n",
    "          i=i+1"
   ]
  },
  {
   "cell_type": "code",
   "execution_count": null,
   "id": "db25248f-0449-41da-b030-5ca7b936a1e7",
   "metadata": {},
   "outputs": [
    {
     "name": "stdin",
     "output_type": "stream",
     "text": [
      "Enter the no of input 9\n"
     ]
    }
   ],
   "source": [
    "#wap to calculate sum\n",
    "i=0\n",
    "n=int(input(\"Enter the no of input\"))\n",
    "while i<n:\n",
    "      m=int(input(\"Enter the amount\"))\n",
    "      s=s+m\n",
    "      i=i+1\n",
    "        #sum=old sum amount +new amount deposited\n",
    "      print(s)\n"
   ]
  },
  {
   "cell_type": "code",
   "execution_count": 1,
   "id": "caceb86c-374e-4b3b-8c5f-7a0a51dc1a75",
   "metadata": {},
   "outputs": [
    {
     "name": "stdout",
     "output_type": "stream",
     "text": [
      "Hello world\n",
      "Hello world\n",
      "Hello world\n"
     ]
    }
   ],
   "source": [
    "#string\n",
    "a='Hello world'\n",
    "b=\"Hello world\"\n",
    "c='''Hello world'''\n",
    "print(a)\n",
    "print(b)\n",
    "print(c)"
   ]
  },
  {
   "cell_type": "code",
   "execution_count": 11,
   "id": "76e0cd1f-32ec-4efc-a15b-6a8c80fbbbb9",
   "metadata": {},
   "outputs": [
    {
     "name": "stdout",
     "output_type": "stream",
     "text": [
      "L\n",
      "R\n"
     ]
    }
   ],
   "source": [
    "#imutable data type\n",
    "#string are iterable\n",
    "#indexing\n",
    "a='HELLO WORLD'\n",
    "print(a[3])\n",
    "print(a[-3])"
   ]
  },
  {
   "cell_type": "code",
   "execution_count": 15,
   "id": "df12273a-d809-4eab-abc5-3097e5c5e1a5",
   "metadata": {},
   "outputs": [
    {
     "name": "stdout",
     "output_type": "stream",
     "text": [
      "HELLO\n",
      " WORLD\n"
     ]
    }
   ],
   "source": [
    "#slicing\n",
    "b=a[0:5]\n",
    "c=a[5:]\n",
    "print(b)\n",
    "print(c)"
   ]
  },
  {
   "cell_type": "markdown",
   "id": "582a8236-de51-40e3-aa7a-7210ceb92f5c",
   "metadata": {},
   "source": [
    "a='hello world'\n",
    "l=len(a)\n",
    "for i in range(1):\n",
    "print(a[i])i=0\n"
   ]
  },
  {
   "cell_type": "code",
   "execution_count": 18,
   "id": "1ed101e5-9504-4404-abc0-645efea4f2c3",
   "metadata": {},
   "outputs": [
    {
     "name": "stdout",
     "output_type": "stream",
     "text": [
      "HELLO WORLD"
     ]
    }
   ],
   "source": [
    "i=0\n",
    "while i<len(a):\n",
    "    print(a[i],end=\"\")\n",
    "    i=i+1"
   ]
  },
  {
   "cell_type": "code",
   "execution_count": 20,
   "id": "b1ed106c-2732-4e51-a4c4-71c9cdadb965",
   "metadata": {},
   "outputs": [
    {
     "name": "stdout",
     "output_type": "stream",
     "text": [
      "Hello world i am Ranjan.i am fromBhaktapur.i am 24\n"
     ]
    }
   ],
   "source": [
    "#wap to create billing system using formatting\n",
    "name=\"Ranjan\"\n",
    "age=24\n",
    "add=\"Bhaktapur\"\n",
    "info=f\"Hello world i am {name}.i am from {add}.i am {age}\"\n",
    "print (info)"
   ]
  },
  {
   "cell_type": "code",
   "execution_count": 22,
   "id": "69afcb72-596f-4edd-935a-cbb61801a35a",
   "metadata": {},
   "outputs": [
    {
     "name": "stdout",
     "output_type": "stream",
     "text": [
      "yes\n",
      "1\n"
     ]
    }
   ],
   "source": [
    "#search in string\n",
    "a=\"Ram shyam hari sita gopal\"\n",
    "b=\"Ram\"\n",
    "if b in a:\n",
    "    print (\"yes\")\n",
    "    print(a.count(\"Ram\"))\n",
    "else:\n",
    "    print (\"No\")"
   ]
  },
  {
   "cell_type": "code",
   "execution_count": 30,
   "id": "44ba3b8e-fdca-41ae-823a-10eaf69318ff",
   "metadata": {},
   "outputs": [
    {
     "name": "stdin",
     "output_type": "stream",
     "text": [
      "Enter name= ram\n"
     ]
    },
    {
     "name": "stdout",
     "output_type": "stream",
     "text": [
      "yes\n",
      "1\n"
     ]
    }
   ],
   "source": [
    "#search in string\n",
    "a=\"Ram shyam hari sita gopal\".lower()\n",
    "b=input(\"Enter name=\").lower()\n",
    "if b in a:\n",
    "    print (\"yes\")\n",
    "    print(a.count(b))\n",
    "else:\n",
    "    print (\"No\")"
   ]
  },
  {
   "cell_type": "code",
   "execution_count": 26,
   "id": "32e9b3e9-092b-425d-beab-07f5b1034cfc",
   "metadata": {},
   "outputs": [
    {
     "data": {
      "text/plain": [
       "'ram'"
      ]
     },
     "execution_count": 26,
     "metadata": {},
     "output_type": "execute_result"
    }
   ],
   "source": [
    "a=\"rAm\"\n",
    "a.lower()"
   ]
  },
  {
   "cell_type": "code",
   "execution_count": 40,
   "id": "b81c59f8-3348-4d36-af1e-c326a958bd5f",
   "metadata": {},
   "outputs": [
    {
     "name": "stdout",
     "output_type": "stream",
     "text": [
      "Ram shyam hari sita gopal\n"
     ]
    }
   ],
   "source": [
    "#replace\n",
    "a=\"Ram shyam hari sita gopal\"\n",
    "a= a.replace(\"Shyam\",\"shy\")\n",
    "print (a)"
   ]
  },
  {
   "cell_type": "code",
   "execution_count": null,
   "id": "63db6fd6-d44e-4dde-8752-7d73effc7824",
   "metadata": {},
   "outputs": [],
   "source": []
  }
 ],
 "metadata": {
  "kernelspec": {
   "display_name": "Python [conda env:base] *",
   "language": "python",
   "name": "conda-base-py"
  },
  "language_info": {
   "codemirror_mode": {
    "name": "ipython",
    "version": 3
   },
   "file_extension": ".py",
   "mimetype": "text/x-python",
   "name": "python",
   "nbconvert_exporter": "python",
   "pygments_lexer": "ipython3",
   "version": "3.12.7"
  }
 },
 "nbformat": 4,
 "nbformat_minor": 5
}
