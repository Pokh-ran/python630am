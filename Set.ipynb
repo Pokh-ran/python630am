{
 "cells": [
  {
   "cell_type": "code",
   "execution_count": 1,
   "id": "41eda838-4ffc-4774-a03d-a4af18699510",
   "metadata": {},
   "outputs": [],
   "source": [
    "#set\n",
    "#no indexing\n",
    "#multiple but no duplicate\n",
    "#not ordered\n",
    "#mutable\n"
   ]
  },
  {
   "cell_type": "code",
   "execution_count": 3,
   "id": "e9f19956-2e9a-45fb-b2e8-4fcab51f5348",
   "metadata": {},
   "outputs": [
    {
     "data": {
      "text/plain": [
       "{'Apple', 'ball', 'cat'}"
      ]
     },
     "execution_count": 3,
     "metadata": {},
     "output_type": "execute_result"
    }
   ],
   "source": [
    "#declaring set\n",
    "a=set()\n",
    "b={\"Apple\",\"ball\",\"cat\"}\n",
    "b\n",
    "#c={} this is dictionary if you put data that is set"
   ]
  },
  {
   "cell_type": "code",
   "execution_count": 7,
   "id": "cb19c99b-c6f6-4a12-8f15-46ffb0bd159a",
   "metadata": {},
   "outputs": [
    {
     "ename": "TypeError",
     "evalue": "'set' object is not subscriptable",
     "output_type": "error",
     "traceback": [
      "\u001b[1;31m---------------------------------------------------------------------------\u001b[0m",
      "\u001b[1;31mTypeError\u001b[0m                                 Traceback (most recent call last)",
      "Cell \u001b[1;32mIn[7], line 3\u001b[0m\n\u001b[0;32m      1\u001b[0m \u001b[38;5;66;03m#it doesnot support indexing\u001b[39;00m\n\u001b[0;32m      2\u001b[0m b\u001b[38;5;241m=\u001b[39m{\u001b[38;5;124m\"\u001b[39m\u001b[38;5;124mApple\u001b[39m\u001b[38;5;124m\"\u001b[39m,\u001b[38;5;124m\"\u001b[39m\u001b[38;5;124mball\u001b[39m\u001b[38;5;124m\"\u001b[39m,\u001b[38;5;124m\"\u001b[39m\u001b[38;5;124mcat\u001b[39m\u001b[38;5;124m\"\u001b[39m}\n\u001b[1;32m----> 3\u001b[0m b[\u001b[38;5;241m0\u001b[39m]\n",
      "\u001b[1;31mTypeError\u001b[0m: 'set' object is not subscriptable"
     ]
    }
   ],
   "source": [
    "#it doesnot support indexing\n",
    "b={\"Apple\",\"ball\",\"cat\"}\n",
    "b[0]"
   ]
  },
  {
   "cell_type": "markdown",
   "id": "bfd69744-849e-4ae0-a71b-480c2856947f",
   "metadata": {},
   "source": [
    "#"
   ]
  },
  {
   "cell_type": "code",
   "execution_count": 9,
   "id": "319210bb-6987-4591-a0d9-74381996887a",
   "metadata": {},
   "outputs": [
    {
     "data": {
      "text/plain": [
       "{'Apple', 'ball', 'cat'}"
      ]
     },
     "execution_count": 9,
     "metadata": {},
     "output_type": "execute_result"
    }
   ],
   "source": [
    "#multiple but no duplicate\n",
    "b={\"Apple\",\"ball\",\"cat\",\"Apple\"}\n",
    "b\n"
   ]
  },
  {
   "cell_type": "code",
   "execution_count": 13,
   "id": "543ac7bf-3ab7-4903-a3dc-ac777de7286a",
   "metadata": {},
   "outputs": [],
   "source": [
    "#no operator + * is used in set but using insertting function\n",
    "a=set()\n",
    "a.add(\"Apple\")\n",
    "a.add(\"Ball\")\n",
    "a\n",
    "\n",
    "\n"
   ]
  },
  {
   "cell_type": "code",
   "execution_count": 15,
   "id": "5185ce6d-01e9-4b67-aa7a-8b5a6d01bb84",
   "metadata": {},
   "outputs": [
    {
     "data": {
      "text/plain": [
       "{'Ball'}"
      ]
     },
     "execution_count": 15,
     "metadata": {},
     "output_type": "execute_result"
    }
   ],
   "source": [
    "a=set()\n",
    "a.add(\"Apple\")\n",
    "a.add(\"Ball\")\n",
    "a.remove(\"Apple\")\n",
    "a\n"
   ]
  },
  {
   "cell_type": "code",
   "execution_count": 19,
   "id": "29badb33-3521-4718-b18d-77c998c1c04c",
   "metadata": {},
   "outputs": [
    {
     "data": {
      "text/plain": [
       "{0, 1, 2, 3, 4, 5, 7, 89}"
      ]
     },
     "execution_count": 19,
     "metadata": {},
     "output_type": "execute_result"
    }
   ],
   "source": [
    "#we cannot concat but we can use operate function\n",
    "a={1,2,3,4}\n",
    "b={1,5,7,89,0}\n",
    "a.update(b)\n",
    "a"
   ]
  },
  {
   "cell_type": "code",
   "execution_count": 44,
   "id": "c1fe1014-2c1d-4f2f-a77f-858af038276a",
   "metadata": {},
   "outputs": [
    {
     "data": {
      "text/plain": [
       "{'aayush', 'rabin', 'ranjan'}"
      ]
     },
     "execution_count": 44,
     "metadata": {},
     "output_type": "execute_result"
    }
   ],
   "source": [
    "#functions\n",
    "#intersection\n",
    "#union\n",
    "#difference\n",
    "u={\"ram\",\"shyam\",\"hari\",\"gita\",\"ranjan\",\"aayush\",\"rabin\",\"gita\"}\n",
    "apple={\"ram\",\"shyam\",\"hari\",\"gita\"}\n",
    "ms={\"ranjan\",\"aayush\",\"rabin\",\"gita\"}\n",
    "#working on both or intersection of apple and ms\n",
    "both=apple.intersection(ms)\n",
    "both\n",
    "#for union\n",
    "new=apple.union(ms)\n",
    "new\n",
    "#difference only apple\n",
    "oa=apple.difference(ms)\n",
    "oa\n",
    "#only ms\n",
    "#om=ms-apple\n",
    "#om\n",
    "om=ms.difference(apple)\n",
    "om\n"
   ]
  },
  {
   "cell_type": "code",
   "execution_count": 58,
   "id": "8bd26b20-617e-4fd3-b302-7e193bee4417",
   "metadata": {},
   "outputs": [
    {
     "data": {
      "text/plain": [
       "{'aayush', 'abc', 'gita', 'hari', 'rabin', 'ram', 'ranjan', 'shyam', 'xyz'}"
      ]
     },
     "execution_count": 58,
     "metadata": {},
     "output_type": "execute_result"
    }
   ],
   "source": [
    "u={\"ram\",\"shyam\",\"hari\",\"gita\",\"ranjan\",\"aayush\",\"rabin\",\"gita\",\"abc\",\"xyz\"}\n",
    "apple={\"ram\",\"shyam\",\"hari\",\"gita\"}\n",
    "ms={\"ranjan\",\"aayush\",\"rabin\",\"gita\"}\n",
    "new=u.union(apple,ms)\n",
    "new\n",
    "\n"
   ]
  },
  {
   "cell_type": "code",
   "execution_count": null,
   "id": "19710c52-f32f-4aca-b422-e44f56572813",
   "metadata": {},
   "outputs": [],
   "source": [
    "#questions in interview\n",
    "#there is no any immutable data types in set\n",
    "#no set inside set\n",
    "#no list inside set\n",
    "#no dictionary inside set"
   ]
  }
 ],
 "metadata": {
  "kernelspec": {
   "display_name": "Python [conda env:base] *",
   "language": "python",
   "name": "conda-base-py"
  },
  "language_info": {
   "codemirror_mode": {
    "name": "ipython",
    "version": 3
   },
   "file_extension": ".py",
   "mimetype": "text/x-python",
   "name": "python",
   "nbconvert_exporter": "python",
   "pygments_lexer": "ipython3",
   "version": "3.12.7"
  }
 },
 "nbformat": 4,
 "nbformat_minor": 5
}
