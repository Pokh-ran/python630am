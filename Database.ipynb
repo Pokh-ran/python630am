{
 "cells": [
  {
   "cell_type": "code",
   "execution_count": 1,
   "id": "c60f3afe-b14e-4f00-9c88-31f9905f23e6",
   "metadata": {},
   "outputs": [],
   "source": [
    "import mysql.connector  \t\t#importing database\n",
    "\n",
    "database = mysql.connector.connect(\n",
    "    host=\"localhost\",\n",
    "    user=\"root\",\n",
    "    password=\"\",\n",
    "    database = \"python630am\"\n",
    ")\n",
    "db = database.cursor()"
   ]
  },
  {
   "cell_type": "code",
   "execution_count": 11,
   "id": "c8fa56bd-a0f1-4a51-a8f7-79d5c7815879",
   "metadata": {},
   "outputs": [],
   "source": [
    "sql = \"UPDATE `student` SET `name` = 'Ram' WHERE `sn` = 1\"\n",
    "db.execute(sql)\n",
    "database.commit()\n"
   ]
  },
  {
   "cell_type": "code",
   "execution_count": 17,
   "id": "3e09771d-7a16-4d35-af87-42e74dcc66c3",
   "metadata": {},
   "outputs": [],
   "source": [
    "#delete\n",
    "\n"
   ]
  },
  {
   "cell_type": "code",
   "execution_count": null,
   "id": "cc014e7c-1fdf-470d-9879-67022bd1ad9d",
   "metadata": {},
   "outputs": [],
   "source": []
  },
  {
   "cell_type": "code",
   "execution_count": null,
   "id": "659a54bf-c4ae-4858-9d38-03e1f9744047",
   "metadata": {},
   "outputs": [],
   "source": []
  },
  {
   "cell_type": "code",
   "execution_count": null,
   "id": "d3aa5e25-2571-4624-b066-1cb18c2b6eac",
   "metadata": {},
   "outputs": [],
   "source": []
  },
  {
   "cell_type": "code",
   "execution_count": null,
   "id": "85f47b6d-fd9c-4191-b2ce-b018d602d3ab",
   "metadata": {},
   "outputs": [],
   "source": []
  },
  {
   "cell_type": "code",
   "execution_count": null,
   "id": "b42100a2-e045-48ca-b4a8-8a3f21806abb",
   "metadata": {},
   "outputs": [],
   "source": []
  },
  {
   "cell_type": "code",
   "execution_count": null,
   "id": "e2b8ca22-cdb0-44f0-a168-7cb9b3bca652",
   "metadata": {},
   "outputs": [],
   "source": [
    "\n"
   ]
  },
  {
   "cell_type": "code",
   "execution_count": null,
   "id": "5c32e313-5408-46ee-a16f-36103147e42d",
   "metadata": {},
   "outputs": [],
   "source": []
  },
  {
   "cell_type": "code",
   "execution_count": null,
   "id": "719af7ef-d9a5-4efb-974b-9a84e6caa52f",
   "metadata": {},
   "outputs": [],
   "source": []
  }
 ],
 "metadata": {
  "kernelspec": {
   "display_name": "Python [conda env:base] *",
   "language": "python",
   "name": "conda-base-py"
  },
  "language_info": {
   "codemirror_mode": {
    "name": "ipython",
    "version": 3
   },
   "file_extension": ".py",
   "mimetype": "text/x-python",
   "name": "python",
   "nbconvert_exporter": "python",
   "pygments_lexer": "ipython3",
   "version": "3.12.7"
  }
 },
 "nbformat": 4,
 "nbformat_minor": 5
}
