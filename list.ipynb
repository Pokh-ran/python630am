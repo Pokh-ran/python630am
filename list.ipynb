{
 "cells": [
  {
   "cell_type": "code",
   "execution_count": 1,
   "id": "4f960166-7c15-4d0b-8fcd-e557aa0fbfb8",
   "metadata": {},
   "outputs": [],
   "source": [
    "#python collection is used for collecting data in the python(data types) pre defined variables\n",
    "#List\n",
    "#tuple\n",
    "#dict\n",
    "#set\n"
   ]
  },
  {
   "cell_type": "code",
   "execution_count": 3,
   "id": "653f5871-f677-4682-854a-1d876aa3d06c",
   "metadata": {},
   "outputs": [],
   "source": [
    "#list\n",
    "#indexing\n",
    "#ordered\n",
    "#multiple and duplicate data\n",
    "#Mutable"
   ]
  },
  {
   "cell_type": "code",
   "execution_count": 11,
   "id": "40554950-81c1-4074-98f6-0b0bccd58dbc",
   "metadata": {},
   "outputs": [
    {
     "name": "stdout",
     "output_type": "stream",
     "text": [
      "['Apple', 'Ball', 'Cat', 'Apple']\n",
      "[1, 2, 3, 4, 5, 6, 7, 8, 9, 9]\n"
     ]
    }
   ],
   "source": [
    "l=[\"Apple\",\"Ball\",\"Cat\",\"Apple\"]#duplication\n",
    "a=[1,2,3,4,5,6,7,8,9,9]#multiple value\n",
    "print(l)\n",
    "print(a)\n",
    "print (1[0])"
   ]
  },
  {
   "cell_type": "code",
   "execution_count": 25,
   "id": "fb1232b3-3d5e-4f25-84d4-1e51d040665f",
   "metadata": {},
   "outputs": [
    {
     "name": "stdout",
     "output_type": "stream",
     "text": [
      "Apple\n",
      "['Apple', 'Ball']\n",
      "['Apple', 'Cat', 1, 3, 5]\n"
     ]
    }
   ],
   "source": [
    "l=[\"Apple\",\"Ball\",\"Cat\",\"Apple\",1,2,3,10,5]\n",
    "print (l[0])#indexing\n",
    "print(l[0:2])#slicing\n",
    "print(l[0:10:2])"
   ]
  },
  {
   "cell_type": "code",
   "execution_count": 39,
   "id": "3c9ef129-a3a1-4ac4-8800-b638eb7eeb6b",
   "metadata": {},
   "outputs": [
    {
     "name": "stdout",
     "output_type": "stream",
     "text": [
      "Apple\n",
      "Ball\n",
      "Cat\n",
      "Apple\n"
     ]
    }
   ],
   "source": [
    "l=[\"Apple\",\"Ball\",\"Cat\",\"Apple\"]\n",
    "for i in l:\n",
    "    print(i)\n",
    "  "
   ]
  },
  {
   "cell_type": "code",
   "execution_count": 45,
   "id": "579ebf26-7666-439e-b928-4ab1ba29f25b",
   "metadata": {},
   "outputs": [
    {
     "name": "stdout",
     "output_type": "stream",
     "text": [
      "Apple\n",
      "Ball\n",
      "Cat\n",
      "Apple\n"
     ]
    }
   ],
   "source": [
    "#Range\n",
    "l=[\"Apple\",\"Ball\",\"Cat\",\"Apple\"]\n",
    "for i in range(len(l)):\n",
    "    print(l[i])"
   ]
  },
  {
   "cell_type": "raw",
   "id": "a767b39a-ed7a-4030-9400-158a52a11106",
   "metadata": {},
   "source": []
  },
  {
   "cell_type": "code",
   "execution_count": 55,
   "id": "ad44cd7f-2d0a-4197-ae38-62148b2d3e59",
   "metadata": {},
   "outputs": [
    {
     "name": "stdin",
     "output_type": "stream",
     "text": [
      "enter n= 3\n",
      "Enter x= aa\n"
     ]
    },
    {
     "name": "stdout",
     "output_type": "stream",
     "text": [
      "['Apple', 'Ball', 'Cat', 'Apple', 'Apple', 'dog', 'cat', 'you', 'apple', 'ball', 'cat', 'dog', 'fish', 'Apple', 'Ball', 'cay', 'ee', 'e', 'aa']\n"
     ]
    },
    {
     "name": "stdin",
     "output_type": "stream",
     "text": [
      "Enter x= ss\n"
     ]
    },
    {
     "name": "stdout",
     "output_type": "stream",
     "text": [
      "['Apple', 'Ball', 'Cat', 'Apple', 'Apple', 'dog', 'cat', 'you', 'apple', 'ball', 'cat', 'dog', 'fish', 'Apple', 'Ball', 'cay', 'ee', 'e', 'aa', 'ss']\n"
     ]
    },
    {
     "name": "stdin",
     "output_type": "stream",
     "text": [
      "Enter x= d\n"
     ]
    },
    {
     "name": "stdout",
     "output_type": "stream",
     "text": [
      "['Apple', 'Ball', 'Cat', 'Apple', 'Apple', 'dog', 'cat', 'you', 'apple', 'ball', 'cat', 'dog', 'fish', 'Apple', 'Ball', 'cay', 'ee', 'e', 'aa', 'ss', 'd']\n"
     ]
    }
   ],
   "source": [
    "#user defined list append()-add the value in list,insert()-inserting the value in desired index of list extend()-can copy the all data of one list to another\n",
    "#WAP to take value from user and store in the list\n",
    "#l=list()\n",
    "#l=[]\n",
    "n=int(input(\"enter n=\"))\n",
    "for i in range(n):\n",
    "    x=input(\"Enter x=\")\n",
    "    l.append(x)\n",
    "    print(l)\n",
    "    "
   ]
  },
  {
   "cell_type": "code",
   "execution_count": 15,
   "id": "69dd5278-1010-46f3-bfde-ba749c66db41",
   "metadata": {},
   "outputs": [
    {
     "name": "stdin",
     "output_type": "stream",
     "text": [
      "Enter n =  3\n",
      "Enter x =  1\n",
      "Enter x =  2\n",
      "Enter x =  3\n"
     ]
    },
    {
     "name": "stdout",
     "output_type": "stream",
     "text": [
      "The sum = 6\n",
      "The min = 1\n",
      "The max = 3\n",
      "Sorted list (ascending): [1, 2, 3]\n",
      "Sorted list (descending): [3, 2, 1]\n"
     ]
    }
   ],
   "source": [
    "# Taking input from user\n",
    "n = int(input(\"Enter n = \"))\n",
    "l = []  # initialize empty list\n",
    "\n",
    "# Taking n numbers as input\n",
    "for i in range(n):\n",
    "    x = int(input(\"Enter x = \"))\n",
    "    l.append(x)\n",
    "\n",
    "# Displaying results\n",
    "print(\"The sum =\", sum(l))\n",
    "print(\"The min =\", min(l))\n",
    "print(\"The max =\", max(l))\n",
    "\n",
    "# Sorting in ascending order\n",
    "l.sort()\n",
    "print(\"Sorted list (ascending):\", l)\n",
    "\n",
    "# Sorting in descending order\n",
    "l.reverse()\n",
    "print(\"Sorted list (descending):\", l)\n"
   ]
  },
  {
   "cell_type": "code",
   "execution_count": 11,
   "id": "8078871e-e556-416d-b3a4-508c44b08e54",
   "metadata": {
    "scrolled": true
   },
   "outputs": [
    {
     "name": "stdout",
     "output_type": "stream",
     "text": [
      "['Apple', 'Ball', 'cat', 'dog']\n"
     ]
    }
   ],
   "source": [
    "a=[\"Ball\",\"cat\",\"Apple\",\"dog\"]\n",
    "a.sort()\n",
    "print(a)"
   ]
  },
  {
   "cell_type": "code",
   "execution_count": 21,
   "id": "3be2e007-70fd-403b-a2d5-73fcd8d568f3",
   "metadata": {},
   "outputs": [
    {
     "name": "stdout",
     "output_type": "stream",
     "text": [
      "['Ball', 'fish', 'cat', 'Apple', 'dog', 'Apple']\n"
     ]
    }
   ],
   "source": [
    "#inserting and append\n",
    "a=[\"Ball\",\"cat\",\"Apple\",\"dog\"]\n",
    "a.append(\"Apple\")\n",
    "a.insert(1,\"fish\")\n",
    "print(a)"
   ]
  },
  {
   "cell_type": "code",
   "execution_count": 29,
   "id": "3b64c74e-da53-4d64-84f9-61709e494044",
   "metadata": {},
   "outputs": [
    {
     "name": "stdout",
     "output_type": "stream",
     "text": [
      "[1, 2, 3, 4, 5, 'Ball', 'cat', 'Apple', 'dog']\n"
     ]
    }
   ],
   "source": [
    "#extend \n",
    "a=[\"Ball\",\"cat\",\"Apple\",\"dog\"]\n",
    "b=[1,2,3,4,5]\n",
    "#a.extend(b)\n",
    "#print(a)\n",
    "b.extend(a)\n",
    "print(b)\n"
   ]
  },
  {
   "cell_type": "code",
   "execution_count": 31,
   "id": "93ff66a3-48f6-4bc2-9a59-7c1cef92d8ac",
   "metadata": {},
   "outputs": [
    {
     "name": "stdout",
     "output_type": "stream",
     "text": [
      "['Ball', 'cat', 'Apple', 'dog', 1, 2, 3, 4, 5]\n"
     ]
    }
   ],
   "source": [
    "a=[\"Ball\",\"cat\",\"Apple\",\"dog\"]\n",
    "b=[1,2,3,4,5]\n",
    "c=a+b\n",
    "print(c)"
   ]
  },
  {
   "cell_type": "code",
   "execution_count": 33,
   "id": "566f4cf3-77bf-4c04-be79-8c93aa7e20c8",
   "metadata": {},
   "outputs": [
    {
     "name": "stdout",
     "output_type": "stream",
     "text": [
      "['Ball', 'cat', 'Apple', 'dog', 1, 2, 3, 4, 5]\n"
     ]
    }
   ],
   "source": [
    "a=[\"Ball\",\"cat\",\"Apple\",\"dog\"]\n",
    "b=[1,2,3,4,5]\n",
    "a=a+b\n",
    "print(a)"
   ]
  },
  {
   "cell_type": "code",
   "execution_count": 37,
   "id": "8cc217da-eb18-4376-93a3-886dd96e66ae",
   "metadata": {},
   "outputs": [],
   "source": [
    "#CRUD\n",
    "#Create\n",
    "#Read\n",
    "#Update\n",
    "#Delete\n"
   ]
  },
  {
   "cell_type": "code",
   "execution_count": 41,
   "id": "ececa042-a5b3-4263-91cd-3f52076a1e87",
   "metadata": {},
   "outputs": [
    {
     "name": "stdout",
     "output_type": "stream",
     "text": [
      "['Hen', 'cat', 'Apple', 'dog']\n"
     ]
    }
   ],
   "source": [
    "#Update or edit\n",
    "a=[\"Ball\",\"cat\",\"Apple\",\"dog\"]\n",
    "a[0]=\"Hen\"\n",
    "print (a)"
   ]
  },
  {
   "cell_type": "code",
   "execution_count": 45,
   "id": "9b20193f-03f0-4c89-bd84-b6775b2c6683",
   "metadata": {},
   "outputs": [
    {
     "name": "stdout",
     "output_type": "stream",
     "text": [
      "['hen', 'fish', 'Apple', 'dog']\n"
     ]
    }
   ],
   "source": [
    "#updating multiple data\n",
    "a=[\"Ball\",\"cat\",\"Apple\",\"dog\"]\n",
    "a[0:2]=[\"hen\",\"fish\"]\n",
    "print (a)"
   ]
  },
  {
   "cell_type": "code",
   "execution_count": 7,
   "id": "51b10c80-03c5-44b2-bed7-97dadc591cef",
   "metadata": {},
   "outputs": [
    {
     "name": "stdout",
     "output_type": "stream",
     "text": [
      "['cat', 'Apple', 'dog']\n"
     ]
    }
   ],
   "source": [
    "#Delete\n",
    "#del()\n",
    "#remove()\n",
    "#pop()\n",
    "a=[\"Ball\",\"cat\",\"Apple\",\"dog\"]\n",
    "del a[0]\n",
    "print(a)\n"
   ]
  },
  {
   "cell_type": "code",
   "execution_count": 11,
   "id": "eda4d29b-9679-4aae-ae70-50e5654efdfa",
   "metadata": {},
   "outputs": [
    {
     "name": "stdout",
     "output_type": "stream",
     "text": [
      "['Apple', 'dog']\n"
     ]
    }
   ],
   "source": [
    "a=[\"Ball\",\"cat\",\"Apple\",\"dog\"]\n",
    "del a[0:2]\n",
    "print(a)"
   ]
  },
  {
   "cell_type": "code",
   "execution_count": 15,
   "id": "8e468989-94b7-4bc4-8251-b544b6057b62",
   "metadata": {},
   "outputs": [
    {
     "name": "stdout",
     "output_type": "stream",
     "text": [
      "['cat', 'Apple', 'dog']\n"
     ]
    }
   ],
   "source": [
    "a=[\"Ball\",\"cat\",\"Apple\",\"dog\"]\n",
    "a.remove(\"Ball\")\n",
    "print(a)"
   ]
  },
  {
   "cell_type": "code",
   "execution_count": 78,
   "id": "62c18c4f-36ce-4a16-b14f-160ceab1afc6",
   "metadata": {},
   "outputs": [
    {
     "name": "stdout",
     "output_type": "stream",
     "text": [
      "['cat', 'Apple', 'dog']\n"
     ]
    }
   ],
   "source": [
    "#if multiple same data has to be removed then\n",
    "a = [\"Ball\", \"cat\", \"Apple\", \"dog\", \"Ball\"]\n",
    "c = a.count(\"Ball\")\n",
    "for i in range(c):\n",
    "    a.remove(\"Ball\")\n",
    "print(a)\n",
    "\n",
    "    "
   ]
  },
  {
   "cell_type": "code",
   "execution_count": 70,
   "id": "2960c866-e8ce-4346-86d9-4c0b37f5116d",
   "metadata": {},
   "outputs": [
    {
     "data": {
      "text/plain": [
       "0"
      ]
     },
     "execution_count": 70,
     "metadata": {},
     "output_type": "execute_result"
    }
   ],
   "source": [
    "#index\n",
    "a=[\"Ball\",\"cat\",\"Apple\",\"dog\",\"Ball\"]\n",
    "a.index(\"Ball\")"
   ]
  },
  {
   "cell_type": "code",
   "execution_count": 62,
   "id": "213e9cd6-4f71-457a-b4c7-7baf2e8366bc",
   "metadata": {},
   "outputs": [
    {
     "name": "stdout",
     "output_type": "stream",
     "text": [
      "0\n",
      "4\n"
     ]
    }
   ],
   "source": [
    "a=[\"Ball\",\"cat\",\"Apple\",\"dog\",\"Ball\"]\n",
    "l=len(a)\n",
    "for i in range(l):\n",
    "  if a[i]==\"Ball\":\n",
    "     print(i)"
   ]
  },
  {
   "cell_type": "code",
   "execution_count": 64,
   "id": "f5161b40-74b9-4dc7-b03d-c97016071087",
   "metadata": {},
   "outputs": [
    {
     "name": "stdout",
     "output_type": "stream",
     "text": [
      "['cat', 'Apple', 'dog', 'Ball']\n"
     ]
    }
   ],
   "source": [
    "a=[\"Ball\",\"cat\",\"Apple\",\"dog\",\"Ball\"]\n",
    "del a[0]\n",
    "print (a)"
   ]
  },
  {
   "cell_type": "code",
   "execution_count": 66,
   "id": "1d067aaf-20d5-43df-aecb-00140c384ba4",
   "metadata": {},
   "outputs": [
    {
     "name": "stdout",
     "output_type": "stream",
     "text": [
      "['Ball', 'Apple', 'dog', 'Ball']\n",
      "cat\n"
     ]
    }
   ],
   "source": [
    "#pop()\n",
    "a=[\"Ball\",\"cat\",\"Apple\",\"dog\",\"Ball\"]\n",
    "b=a.pop(1)\n",
    "print(a)\n",
    "print(b)"
   ]
  },
  {
   "cell_type": "code",
   "execution_count": 82,
   "id": "3739fc25-bb24-43d6-bf9f-9dd842df05e5",
   "metadata": {},
   "outputs": [
    {
     "name": "stdout",
     "output_type": "stream",
     "text": [
      "Yes\n",
      "2\n"
     ]
    }
   ],
   "source": [
    "#searching\n",
    "a = [\"Ball\", \"cat\", \"Apple\", \"dog\", \"Ball\"]\n",
    "if\"Ball\" in a:\n",
    "    print(\"Yes\")\n",
    "    print(a.count(\"Ball\"))\n",
    "else:\n",
    "    print(\"No\")\n",
    "\n"
   ]
  },
  {
   "cell_type": "code",
   "execution_count": 94,
   "id": "4f375698-ba0b-4d99-ac12-a15ecac51ab6",
   "metadata": {},
   "outputs": [
    {
     "name": "stdout",
     "output_type": "stream",
     "text": [
      "[{1, 2, 3}, {4, 5, 6}, {8, 9, 7}]\n",
      "{1, 2, 3}\n",
      "{8, 9, 7}\n"
     ]
    }
   ],
   "source": [
    "#list inside list\n",
    "#nested list\n",
    "a=[{1,2,3},\n",
    "   {4,5,6},\n",
    "   {7,8,9}]\n",
    "print(a)\n",
    "print (a[0])\n",
    "print (a[2])"
   ]
  },
  {
   "cell_type": "code",
   "execution_count": 27,
   "id": "e7b85b4a-5859-4c33-b4c0-4560d421ed80",
   "metadata": {},
   "outputs": [
    {
     "ename": "TypeError",
     "evalue": "'set' object is not subscriptable",
     "output_type": "error",
     "traceback": [
      "\u001b[1;31m---------------------------------------------------------------------------\u001b[0m",
      "\u001b[1;31mTypeError\u001b[0m                                 Traceback (most recent call last)",
      "Cell \u001b[1;32mIn[27], line 4\u001b[0m\n\u001b[0;32m      1\u001b[0m a\u001b[38;5;241m=\u001b[39m[{\u001b[38;5;241m1\u001b[39m,\u001b[38;5;241m2\u001b[39m,\u001b[38;5;241m3\u001b[39m},\n\u001b[0;32m      2\u001b[0m    {\u001b[38;5;241m4\u001b[39m,\u001b[38;5;241m5\u001b[39m,\u001b[38;5;241m6\u001b[39m},\n\u001b[0;32m      3\u001b[0m    {\u001b[38;5;241m7\u001b[39m,\u001b[38;5;241m8\u001b[39m,\u001b[38;5;241m9\u001b[39m}]\n\u001b[1;32m----> 4\u001b[0m \u001b[38;5;28mprint\u001b[39m (a[\u001b[38;5;241m0\u001b[39m][\u001b[38;5;241m0\u001b[39m])\n",
      "\u001b[1;31mTypeError\u001b[0m: 'set' object is not subscriptable"
     ]
    }
   ],
   "source": [
    "a=[[1,2,3],\n",
    "   [4,5,6],\n",
    "   [7,8,9}]\n",
    "print (a[0][0])"
   ]
  },
  {
   "cell_type": "code",
   "execution_count": 102,
   "id": "4dd171b5-4410-41ef-8a61-216d4758b082",
   "metadata": {},
   "outputs": [
    {
     "name": "stdout",
     "output_type": "stream",
     "text": [
      "[['Ram', 34, 'Ktm'], ['shyam', 65, 'dolakha'], ['hari', 45, 'bkt']]\n"
     ]
    }
   ],
   "source": [
    "a=[['Ram',34,'Ktm'],\n",
    "   ['shyam',65,'dolakha'],\n",
    "   ['hari',45,'bkt']]\n",
    "print (a)"
   ]
  },
  {
   "cell_type": "code",
   "execution_count": null,
   "id": "a44fee65-e531-47d3-a078-eddac0adeb8e",
   "metadata": {},
   "outputs": [],
   "source": [
    "l=[]\n",
    "n=int(input(\"Enter n=\"))\n",
    "for i in range(n):\n",
    "    name=input(\"Enter name=\")\n",
    "    add=input(\"Enter add=\")\n",
    "    age=int(input(\"Enter age=\"))\n",
    "l.append([name,add,age])\n",
    "\n"
   ]
  },
  {
   "cell_type": "code",
   "execution_count": 9,
   "id": "623c0b3b-5ddc-4da6-9dbb-f289d991cb82",
   "metadata": {},
   "outputs": [
    {
     "name": "stdout",
     "output_type": "stream",
     "text": [
      "[['Ram', 34, 'Ktm'], ['shyam', 65, 'dolakha'], ['hari', 45, 'bkt'], 'sita', 34, 'jhapa']\n"
     ]
    }
   ],
   "source": [
    "l=[['Ram',34,'Ktm'],\n",
    "   ['shyam',65,'dolakha'],\n",
    "   ['hari',45,'bkt']]\n",
    "a=['sita',34,'jhapa']\n",
    "c=l+a\n",
    "print(c)"
   ]
  },
  {
   "cell_type": "code",
   "execution_count": 21,
   "id": "17daaa56-4e02-428d-886e-90e10ab33a72",
   "metadata": {},
   "outputs": [
    {
     "name": "stdout",
     "output_type": "stream",
     "text": [
      "[['Ram', 46, 'Ktm'], ['shyam', 65, 'dolakha'], ['hari', 45, 'bkt']]\n"
     ]
    }
   ],
   "source": [
    "l=[['Ram',34,'Ktm'],\n",
    "   ['shyam',65,'dolakha'],\n",
    "   ['hari',45,'bkt']]\n",
    "l[0][1]=46\n",
    "print(l)\n",
    "\n",
    "\n"
   ]
  },
  {
   "cell_type": "code",
   "execution_count": 39,
   "id": "934b4fda-3d11-4374-929f-d8acd63fbd84",
   "metadata": {},
   "outputs": [
    {
     "name": "stdout",
     "output_type": "stream",
     "text": [
      "[['Ram', 34, 'Ktm,Nepal'], ['shyam', 65, 'dolakha'], ['hari', 45, 'bkt']]\n",
      "[['Ram', 34, 'Ktm,Nepal'], ['shyam', 65, 'dolakha,Nepal'], ['hari', 45, 'bkt']]\n",
      "[['Ram', 34, 'Ktm,Nepal'], ['shyam', 65, 'dolakha,Nepal'], ['hari', 45, 'bkt,Nepal']]\n"
     ]
    }
   ],
   "source": [
    "l=[['Ram',34,'Ktm'],\n",
    "   ['shyam',65,'dolakha'],\n",
    "   ['hari',45,'bkt']]\n",
    "for i in l:\n",
    "    i[2]=f\"{i[2]},Nepal\"\n",
    "    print(l)\n",
    "    "
   ]
  },
  {
   "cell_type": "code",
   "execution_count": 45,
   "id": "4a71fe63-b6b3-4183-abbc-d98a4b129758",
   "metadata": {},
   "outputs": [
    {
     "data": {
      "text/plain": [
       "[['shyam', 65, 'dolakha'], ['hari', 45, 'bkt']]"
      ]
     },
     "execution_count": 45,
     "metadata": {},
     "output_type": "execute_result"
    }
   ],
   "source": [
    "l=[['Ram',34,'Ktm'],\n",
    "   ['shyam',65,'dolakha'],\n",
    "   ['hari',45,'bkt']]\n",
    "del l[0]\n",
    "l"
   ]
  },
  {
   "cell_type": "code",
   "execution_count": 53,
   "id": "5d870d90-3c80-492a-9b16-a8a06648c022",
   "metadata": {},
   "outputs": [
    {
     "data": {
      "text/plain": [
       "[['shyam', 65, 'dolakha'], ['hari', 45, 'bkt']]"
      ]
     },
     "execution_count": 53,
     "metadata": {},
     "output_type": "execute_result"
    }
   ],
   "source": [
    "l=[['Ram',34,'Ktm'],\n",
    "   ['shyam',65,'dolakha'],\n",
    "   ['hari',45,'bkt']]\n",
    "l.remove(['Ram',34,'Ktm'])\n",
    "l"
   ]
  },
  {
   "cell_type": "code",
   "execution_count": null,
   "id": "d2df6c97-d565-4377-abc6-80519afdf7d1",
   "metadata": {},
   "outputs": [],
   "source": []
  }
 ],
 "metadata": {
  "kernelspec": {
   "display_name": "Python [conda env:base] *",
   "language": "python",
   "name": "conda-base-py"
  },
  "language_info": {
   "codemirror_mode": {
    "name": "ipython",
    "version": 3
   },
   "file_extension": ".py",
   "mimetype": "text/x-python",
   "name": "python",
   "nbconvert_exporter": "python",
   "pygments_lexer": "ipython3",
   "version": "3.12.7"
  }
 },
 "nbformat": 4,
 "nbformat_minor": 5
}
