{
 "cells": [
  {
   "cell_type": "code",
   "execution_count": 3,
   "id": "6aea71d5-ad03-4ed6-bed6-da0445b23e7d",
   "metadata": {},
   "outputs": [
    {
     "name": "stdout",
     "output_type": "stream",
     "text": [
      "<class 'tuple'>\n"
     ]
    }
   ],
   "source": [
    "#tuple\n",
    "#indexing\n",
    "#multiple and duplicate\n",
    "#ordered\n",
    "#immutable  cannot perform any operation just we can create and store\n",
    "#it is used in the data which cannot be changed just like gender option only we need male and female\n",
    "#like provinces and district data\n",
    "#it is not used for changing the data\n",
    "\n",
    "a=tuple()\n",
    "b=(1,2,3,4,5,6,7,8,9)\n",
    "c=(\"Apple\",\"Ball\",\"cat\")\n",
    "a\n",
    "b\n",
    "c\n",
    "print(type(a))\n"
   ]
  },
  {
   "cell_type": "code",
   "execution_count": 5,
   "id": "fe41aa6a-4172-4f84-944d-f8eb733e2f87",
   "metadata": {},
   "outputs": [
    {
     "data": {
      "text/plain": [
       "(1, 2, 3, 4, 5, 6)"
      ]
     },
     "execution_count": 5,
     "metadata": {},
     "output_type": "execute_result"
    }
   ],
   "source": [
    "#we can concatenation\n",
    "a=(1,2,3)\n",
    "b=(4,5,6)\n",
    "c=a+b\n",
    "c"
   ]
  },
  {
   "cell_type": "code",
   "execution_count": 11,
   "id": "17e591b7-1a89-445c-9025-3339a90dfa13",
   "metadata": {},
   "outputs": [
    {
     "name": "stdout",
     "output_type": "stream",
     "text": [
      "<class 'str'>\n"
     ]
    }
   ],
   "source": [
    "#if the only one data added that is not tuple type so use comma at last if there is single data\n",
    "#for eg:\n",
    "a=(\"apple\")\n",
    "print (type(a))"
   ]
  },
  {
   "cell_type": "code",
   "execution_count": 17,
   "id": "57f16239-6801-4128-8748-3186f6f62658",
   "metadata": {},
   "outputs": [
    {
     "name": "stdout",
     "output_type": "stream",
     "text": [
      "<class 'tuple'>\n"
     ]
    }
   ],
   "source": [
    "#it gives string as output so for this problem we can solve it by using comma in the alst of data\n",
    "a=(\"apple\",)\n",
    "print (type(a))\n",
    "#this code output provides type as tuple"
   ]
  },
  {
   "cell_type": "code",
   "execution_count": 19,
   "id": "cf63b663-bdfb-40ad-a747-054835f0ee2c",
   "metadata": {},
   "outputs": [
    {
     "data": {
      "text/plain": [
       "['apple', 'ball', 'cat']"
      ]
     },
     "execution_count": 19,
     "metadata": {},
     "output_type": "execute_result"
    }
   ],
   "source": [
    "#we can convert the tuple into the list\n",
    "#eg\n",
    "a=(\"apple\",'ball','cat')\n",
    "b=list(a)\n",
    "b\n"
   ]
  },
  {
   "cell_type": "code",
   "execution_count": 27,
   "id": "8ab2426e-ba63-4ba8-90cd-5edeb563fd91",
   "metadata": {},
   "outputs": [
    {
     "data": {
      "text/plain": [
       "((1, 2, 3, 4), (5, 6, 7, 8, 9))"
      ]
     },
     "execution_count": 27,
     "metadata": {},
     "output_type": "execute_result"
    }
   ],
   "source": [
    "#we can use those function which doesnot change any data of tuple\n",
    "#like sum() min() max()etc\n",
    "#tuple inside tuple\n",
    "t=((1,2,3,4),\n",
    "   (5,6,7,8,9))\n",
    "  \n",
    "t"
   ]
  },
  {
   "cell_type": "code",
   "execution_count": null,
   "id": "8a698378-8fde-4a74-9df6-a5aac1bbb1b7",
   "metadata": {},
   "outputs": [],
   "source": []
  }
 ],
 "metadata": {
  "kernelspec": {
   "display_name": "Python [conda env:base] *",
   "language": "python",
   "name": "conda-base-py"
  },
  "language_info": {
   "codemirror_mode": {
    "name": "ipython",
    "version": 3
   },
   "file_extension": ".py",
   "mimetype": "text/x-python",
   "name": "python",
   "nbconvert_exporter": "python",
   "pygments_lexer": "ipython3",
   "version": "3.12.7"
  }
 },
 "nbformat": 4,
 "nbformat_minor": 5
}
