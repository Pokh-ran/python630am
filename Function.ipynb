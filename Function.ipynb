{
 "cells": [
  {
   "cell_type": "code",
   "execution_count": 5,
   "id": "e6b1e6d6-b600-4d6f-b0dd-62b09adeb857",
   "metadata": {},
   "outputs": [],
   "source": [
    "#types of functions\n",
    "#pre defined functions    print() int() float() str() dict() list() set()\n",
    "#user defined function"
   ]
  },
  {
   "cell_type": "code",
   "execution_count": 19,
   "id": "b0bc26f1-0073-4009-bfa4-3ccff00cd3e5",
   "metadata": {},
   "outputs": [
    {
     "name": "stdout",
     "output_type": "stream",
     "text": [
      "Hello Ram\n"
     ]
    }
   ],
   "source": [
    "def hello():\n",
    "    print(\"Hello Ram\")\n",
    "hello()   "
   ]
  },
  {
   "cell_type": "code",
   "execution_count": 32,
   "id": "bef1c08f-dcc8-4257-8937-170e95b35c48",
   "metadata": {},
   "outputs": [
    {
     "name": "stdin",
     "output_type": "stream",
     "text": [
      "Enter l= 20\n",
      "Enter b= 3\n"
     ]
    },
    {
     "name": "stdout",
     "output_type": "stream",
     "text": [
      "60\n"
     ]
    }
   ],
   "source": [
    "#to calculate area\n",
    "def area():\n",
    "    l=int(input(\"Enter l=\"))\n",
    "    b=int(input(\"Enter b=\"))\n",
    "    a=l*b\n",
    "    print(a)\n",
    "area()\n"
   ]
  },
  {
   "cell_type": "code",
   "execution_count": 36,
   "id": "3a2e03b6-6a14-4f3e-bf96-132d7b1e6328",
   "metadata": {},
   "outputs": [
    {
     "name": "stdin",
     "output_type": "stream",
     "text": [
      "Enter l= 3\n",
      "Enter b= 4\n"
     ]
    },
    {
     "name": "stdout",
     "output_type": "stream",
     "text": [
      "12\n"
     ]
    },
    {
     "data": {
      "text/plain": [
       "3"
      ]
     },
     "execution_count": 36,
     "metadata": {},
     "output_type": "execute_result"
    }
   ],
   "source": [
    "#making local variable global\n",
    "def area():\n",
    "    global l,b\n",
    "    l=int(input(\"Enter l=\"))\n",
    "    b=int(input(\"Enter b=\"))\n",
    "    a=l*b\n",
    "    print(a)\n",
    "area()\n",
    "l\n"
   ]
  },
  {
   "cell_type": "code",
   "execution_count": 3,
   "id": "f3d4202f-afba-4ea3-9ad0-4fea897345aa",
   "metadata": {},
   "outputs": [
    {
     "name": "stdin",
     "output_type": "stream",
     "text": [
      "Enter l= 2\n",
      "Enter b= 3\n"
     ]
    },
    {
     "name": "stdout",
     "output_type": "stream",
     "text": [
      "6\n"
     ]
    }
   ],
   "source": [
    "#Arguments and parameters\n",
    "def area(l,b):\n",
    "    a=l*b\n",
    "    \n",
    "    print(a)\n",
    "l=int(input(\"Enter l=\"))\n",
    "b=int(input(\"Enter b=\"))\n",
    "area(l,b)\n"
   ]
  },
  {
   "cell_type": "code",
   "execution_count": 13,
   "id": "8fd396c0-d894-40bf-becb-9a343f9c0cc0",
   "metadata": {},
   "outputs": [
    {
     "name": "stdout",
     "output_type": "stream",
     "text": [
      "hello world i am Ram.i am fromktm.i am56\n"
     ]
    }
   ],
   "source": [
    "def info(name,add,age):\n",
    "    data=f\"hello world i am {name}.i am from {add}.i am{age}\"\n",
    "    print (data)\n",
    "info(\"Ram\",\"ktm\",\"56\")"
   ]
  },
  {
   "cell_type": "code",
   "execution_count": 29,
   "id": "028eb61d-c991-498b-8b76-01f07e6090d7",
   "metadata": {},
   "outputs": [
    {
     "name": "stdout",
     "output_type": "stream",
     "text": [
      "c\n",
      "c++\n",
      "python\n"
     ]
    }
   ],
   "source": [
    "def language(lan=\"python\"):#function with argument default value\n",
    "    \n",
    "    print(lan)\n",
    "language(\"c\")\n",
    "language(\"c++\")\n",
    "language()\n",
    "    "
   ]
  },
  {
   "cell_type": "code",
   "execution_count": 35,
   "id": "b2b4bfda-58e3-4554-bfc6-8926f1974836",
   "metadata": {},
   "outputs": [
    {
     "name": "stdin",
     "output_type": "stream",
     "text": [
      "ENter l:= 2\n",
      "ENter :b= 3\n"
     ]
    },
    {
     "data": {
      "text/plain": [
       "6"
      ]
     },
     "execution_count": 35,
     "metadata": {},
     "output_type": "execute_result"
    }
   ],
   "source": [
    "def area(l,b):\n",
    "    a=l*b\n",
    "    return a\n",
    "\n",
    "l=int(input(\"ENter l:=\"))\n",
    "b=int(input(\"ENter :b=\"))\n",
    "area(l,b)"
   ]
  },
  {
   "cell_type": "code",
   "execution_count": null,
   "id": "648c043f-ad14-459a-bc97-d32c2a5384ae",
   "metadata": {},
   "outputs": [],
   "source": []
  }
 ],
 "metadata": {
  "kernelspec": {
   "display_name": "Python [conda env:base] *",
   "language": "python",
   "name": "conda-base-py"
  },
  "language_info": {
   "codemirror_mode": {
    "name": "ipython",
    "version": 3
   },
   "file_extension": ".py",
   "mimetype": "text/x-python",
   "name": "python",
   "nbconvert_exporter": "python",
   "pygments_lexer": "ipython3",
   "version": "3.12.7"
  }
 },
 "nbformat": 4,
 "nbformat_minor": 5
}
